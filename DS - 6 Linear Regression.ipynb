{
 "cells": [
  {
   "cell_type": "code",
   "execution_count": 1,
   "metadata": {},
   "outputs": [],
   "source": [
    "# Regression\n",
    "    # Numpy 'polyfit' for Simple linear regression with 1 variable\n",
    "    # Scikit-learn for more advanced/ better tools\n",
    "        # Preprocessing toolkit - polynomial features\n",
    "    # Statsmodel library has more R style features/ reporting on model parameters (p-value etc.)\n",
    "    # MAE / MSE / RMSE\n",
    "    # Regularization: L1: LASSO, L2: RIDGE, L1+L2: Elastic Net\n",
    "        # Cross validation metric = 'scorer object' -> higher return values are better (accuracy, -RMSE)\n",
    "        # Penalty parameter called 'alpha'\n",
    "    # Lasso/ LassoCV, Ridge/ RidgeCV\n",
    "        # Cross_val_score - generic approach to running Cross Validation for any model estimator\n",
    "        # Scoring metrics - SCORERS.keys\n",
    "    # GridSearchCV"
   ]
  },
  {
   "cell_type": "code",
   "execution_count": 2,
   "metadata": {},
   "outputs": [],
   "source": [
    "import pandas as pd\n",
    "import numpy as np\n",
    "import matplotlib.pyplot as plt\n",
    "import seaborn as sns\n",
    "import plotly.express as px\n",
    "%matplotlib inline\n",
    "\n",
    "from sklearn.linear_model import LinearRegression\n",
    "from sklearn.linear_model import Ridge, RidgeCV\n",
    "from sklearn.linear_model import Lasso, LassoCV\n",
    "from sklearn.linear_model import ElasticNet, ElasticNetCV\n",
    "\n",
    "from sklearn.model_selection import train_test_split\n",
    "from sklearn.metrics import mean_absolute_error, mean_squared_error\n",
    "\n",
    "import scipy as sp                        #Q_Q plot\n",
    "from statsmodels.formula.api import ols   #R-style output of model fit\n",
    "\n",
    "from sklearn.preprocessing import PolynomialFeatures\n",
    "from sklearn.preprocessing import StandardScaler"
   ]
  },
  {
   "cell_type": "markdown",
   "metadata": {},
   "source": [
    "## Linear Regression\n",
    "* Advertising dataset (from ISLR)\n",
    "* Numpy's Polyfit\n",
    "* Scikit-learn - models (Ridge, Lasso, LARS, Elastic Net), CV, regularization\n",
    "* Model sharing/ deployment"
   ]
  },
  {
   "cell_type": "markdown",
   "metadata": {},
   "source": [
    "#### Load Data"
   ]
  },
  {
   "cell_type": "code",
   "execution_count": 3,
   "metadata": {},
   "outputs": [],
   "source": [
    "path = '../../GitHub/Python-Data-Science/DATA/'"
   ]
  },
  {
   "cell_type": "code",
   "execution_count": 4,
   "metadata": {},
   "outputs": [],
   "source": [
    "df_raw = pd.read_csv(path+'advertising.csv')\n",
    "df = df_raw.copy()"
   ]
  },
  {
   "cell_type": "code",
   "execution_count": 5,
   "metadata": {},
   "outputs": [
    {
     "data": {
      "text/html": [
       "<div>\n",
       "<style scoped>\n",
       "    .dataframe tbody tr th:only-of-type {\n",
       "        vertical-align: middle;\n",
       "    }\n",
       "\n",
       "    .dataframe tbody tr th {\n",
       "        vertical-align: top;\n",
       "    }\n",
       "\n",
       "    .dataframe thead th {\n",
       "        text-align: right;\n",
       "    }\n",
       "</style>\n",
       "<table border=\"1\" class=\"dataframe\">\n",
       "  <thead>\n",
       "    <tr style=\"text-align: right;\">\n",
       "      <th></th>\n",
       "      <th>TV</th>\n",
       "      <th>radio</th>\n",
       "      <th>newspaper</th>\n",
       "      <th>sales</th>\n",
       "    </tr>\n",
       "  </thead>\n",
       "  <tbody>\n",
       "    <tr>\n",
       "      <th>0</th>\n",
       "      <td>230.1</td>\n",
       "      <td>37.8</td>\n",
       "      <td>69.2</td>\n",
       "      <td>22.1</td>\n",
       "    </tr>\n",
       "    <tr>\n",
       "      <th>1</th>\n",
       "      <td>44.5</td>\n",
       "      <td>39.3</td>\n",
       "      <td>45.1</td>\n",
       "      <td>10.4</td>\n",
       "    </tr>\n",
       "    <tr>\n",
       "      <th>2</th>\n",
       "      <td>17.2</td>\n",
       "      <td>45.9</td>\n",
       "      <td>69.3</td>\n",
       "      <td>9.3</td>\n",
       "    </tr>\n",
       "    <tr>\n",
       "      <th>3</th>\n",
       "      <td>151.5</td>\n",
       "      <td>41.3</td>\n",
       "      <td>58.5</td>\n",
       "      <td>18.5</td>\n",
       "    </tr>\n",
       "    <tr>\n",
       "      <th>4</th>\n",
       "      <td>180.8</td>\n",
       "      <td>10.8</td>\n",
       "      <td>58.4</td>\n",
       "      <td>12.9</td>\n",
       "    </tr>\n",
       "  </tbody>\n",
       "</table>\n",
       "</div>"
      ],
      "text/plain": [
       "      TV  radio  newspaper  sales\n",
       "0  230.1   37.8       69.2   22.1\n",
       "1   44.5   39.3       45.1   10.4\n",
       "2   17.2   45.9       69.3    9.3\n",
       "3  151.5   41.3       58.5   18.5\n",
       "4  180.8   10.8       58.4   12.9"
      ]
     },
     "execution_count": 5,
     "metadata": {},
     "output_type": "execute_result"
    }
   ],
   "source": [
    "df.head()"
   ]
  },
  {
   "cell_type": "code",
   "execution_count": 6,
   "metadata": {},
   "outputs": [
    {
     "data": {
      "text/html": [
       "<div>\n",
       "<style scoped>\n",
       "    .dataframe tbody tr th:only-of-type {\n",
       "        vertical-align: middle;\n",
       "    }\n",
       "\n",
       "    .dataframe tbody tr th {\n",
       "        vertical-align: top;\n",
       "    }\n",
       "\n",
       "    .dataframe thead th {\n",
       "        text-align: right;\n",
       "    }\n",
       "</style>\n",
       "<table border=\"1\" class=\"dataframe\">\n",
       "  <thead>\n",
       "    <tr style=\"text-align: right;\">\n",
       "      <th></th>\n",
       "      <th>TV</th>\n",
       "      <th>radio</th>\n",
       "      <th>newspaper</th>\n",
       "      <th>sales</th>\n",
       "      <th>total_spend</th>\n",
       "    </tr>\n",
       "  </thead>\n",
       "  <tbody>\n",
       "    <tr>\n",
       "      <th>0</th>\n",
       "      <td>230.1</td>\n",
       "      <td>37.8</td>\n",
       "      <td>69.2</td>\n",
       "      <td>22.1</td>\n",
       "      <td>337.1</td>\n",
       "    </tr>\n",
       "    <tr>\n",
       "      <th>1</th>\n",
       "      <td>44.5</td>\n",
       "      <td>39.3</td>\n",
       "      <td>45.1</td>\n",
       "      <td>10.4</td>\n",
       "      <td>128.9</td>\n",
       "    </tr>\n",
       "    <tr>\n",
       "      <th>2</th>\n",
       "      <td>17.2</td>\n",
       "      <td>45.9</td>\n",
       "      <td>69.3</td>\n",
       "      <td>9.3</td>\n",
       "      <td>132.4</td>\n",
       "    </tr>\n",
       "    <tr>\n",
       "      <th>3</th>\n",
       "      <td>151.5</td>\n",
       "      <td>41.3</td>\n",
       "      <td>58.5</td>\n",
       "      <td>18.5</td>\n",
       "      <td>251.3</td>\n",
       "    </tr>\n",
       "    <tr>\n",
       "      <th>4</th>\n",
       "      <td>180.8</td>\n",
       "      <td>10.8</td>\n",
       "      <td>58.4</td>\n",
       "      <td>12.9</td>\n",
       "      <td>250.0</td>\n",
       "    </tr>\n",
       "  </tbody>\n",
       "</table>\n",
       "</div>"
      ],
      "text/plain": [
       "      TV  radio  newspaper  sales  total_spend\n",
       "0  230.1   37.8       69.2   22.1        337.1\n",
       "1   44.5   39.3       45.1   10.4        128.9\n",
       "2   17.2   45.9       69.3    9.3        132.4\n",
       "3  151.5   41.3       58.5   18.5        251.3\n",
       "4  180.8   10.8       58.4   12.9        250.0"
      ]
     },
     "execution_count": 6,
     "metadata": {},
     "output_type": "execute_result"
    }
   ],
   "source": [
    "df['total_spend'] = df.drop(columns='sales').sum(axis=1)\n",
    "df.head()"
   ]
  },
  {
   "cell_type": "code",
   "execution_count": 7,
   "metadata": {},
   "outputs": [
    {
     "data": {
      "text/plain": [
       "<AxesSubplot:xlabel='total_spend', ylabel='sales'>"
      ]
     },
     "execution_count": 7,
     "metadata": {},
     "output_type": "execute_result"
    },
    {
     "data": {
      "image/png": "[encoded data removed]",
      "text/plain": [
       "<Figure size 432x288 with 1 Axes>"
      ]
     },
     "metadata": {
      "needs_background": "light"
     },
     "output_type": "display_data"
    }
   ],
   "source": [
    "sns.regplot(data=df, x='total_spend', y='sales')          #REGPLOT in SNS"
   ]
  },
  {
   "cell_type": "code",
   "execution_count": 8,
   "metadata": {},
   "outputs": [],
   "source": [
    "X = df['total_spend']\n",
    "y = df['sales']"
   ]
  },
  {
   "cell_type": "markdown",
   "metadata": {},
   "source": [
    "#### Numpy's Polyfit function (for one X variable)\n",
    "* Degree = 1\n",
    "* Degree = 3"
   ]
  },
  {
   "cell_type": "code",
   "execution_count": 9,
   "metadata": {},
   "outputs": [
    {
     "name": "stdout",
     "output_type": "stream",
     "text": [
      "Help on function polyfit in module numpy:\n",
      "\n",
      "polyfit(x, y, deg, rcond=None, full=False, w=None, cov=False)\n",
      "    Least squares polynomial fit.\n",
      "    \n",
      "    Fit a polynomial ``p(x) = p[0] * x**deg + ... + p[deg]`` of degree `deg`\n",
      "    to points `(x, y)`. Returns a vector of coefficients `p` that minimises\n",
      "    the squared error in the order `deg`, `deg-1`, ... `0`.\n",
      "    \n",
      "    The `Polynomial.fit <numpy.polynomial.polynomial.Polynomial.fit>` class\n",
      "    method is recommended for new code as it is more stable numerically. See\n",
      "    the documentation of the method for more information.\n",
      "    \n",
      "    Parameters\n",
      "    ----------\n",
      "    x : array_like, shape (M,)\n",
      "        x-coordinates of the M sample points ``(x[i], y[i])``.\n",
      "    y : array_like, shape (M,) or (M, K)\n",
      "        y-coordinates of the sample points. Several data sets of sample\n",
      "        points sharing the same x-coordinates can be fitted at once by\n",
      "        passing in a 2D-array that contains one dataset per column.\n",
      "    deg : int\n",
      "        Degree of the fitting polynomial\n",
      "    rcond : float, optional\n",
      "        Relative condition number of the fit. Singular values smaller than\n",
      "        this relative to the largest singular value will be ignored. The\n",
      "        default value is len(x)*eps, where eps is the relative precision of\n",
      "        the float type, about 2e-16 in most cases.\n",
      "    full : bool, optional\n",
      "        Switch determining nature of return value. When it is False (the\n",
      "        default) just the coefficients are returned, when True diagnostic\n",
      "        information from the singular value decomposition is also returned.\n",
      "    w : array_like, shape (M,), optional\n",
      "        Weights to apply to the y-coordinates of the sample points. For\n",
      "        gaussian uncertainties, use 1/sigma (not 1/sigma**2).\n",
      "    cov : bool or str, optional\n",
      "        If given and not `False`, return not just the estimate but also its\n",
      "        covariance matrix. By default, the covariance are scaled by\n",
      "        chi2/sqrt(N-dof), i.e., the weights are presumed to be unreliable\n",
      "        except in a relative sense and everything is scaled such that the\n",
      "        reduced chi2 is unity. This scaling is omitted if ``cov='unscaled'``,\n",
      "        as is relevant for the case that the weights are 1/sigma**2, with\n",
      "        sigma known to be a reliable estimate of the uncertainty.\n",
      "    \n",
      "    Returns\n",
      "    -------\n",
      "    p : ndarray, shape (deg + 1,) or (deg + 1, K)\n",
      "        Polynomial coefficients, highest power first.  If `y` was 2-D, the\n",
      "        coefficients for `k`-th data set are in ``p[:,k]``.\n",
      "    \n",
      "    residuals, rank, singular_values, rcond\n",
      "        Present only if `full` = True.  Residuals is sum of squared residuals\n",
      "        of the least-squares fit, the effective rank of the scaled Vandermonde\n",
      "        coefficient matrix, its singular values, and the specified value of\n",
      "        `rcond`. For more details, see `linalg.lstsq`.\n",
      "    \n",
      "    V : ndarray, shape (M,M) or (M,M,K)\n",
      "        Present only if `full` = False and `cov`=True.  The covariance\n",
      "        matrix of the polynomial coefficient estimates.  The diagonal of\n",
      "        this matrix are the variance estimates for each coefficient.  If y\n",
      "        is a 2-D array, then the covariance matrix for the `k`-th data set\n",
      "        are in ``V[:,:,k]``\n",
      "    \n",
      "    \n",
      "    Warns\n",
      "    -----\n",
      "    RankWarning\n",
      "        The rank of the coefficient matrix in the least-squares fit is\n",
      "        deficient. The warning is only raised if `full` = False.\n",
      "    \n",
      "        The warnings can be turned off by\n",
      "    \n",
      "        >>> import warnings\n",
      "        >>> warnings.simplefilter('ignore', np.RankWarning)\n",
      "    \n",
      "    See Also\n",
      "    --------\n",
      "    polyval : Compute polynomial values.\n",
      "    linalg.lstsq : Computes a least-squares fit.\n",
      "    scipy.interpolate.UnivariateSpline : Computes spline fits.\n",
      "    \n",
      "    Notes\n",
      "    -----\n",
      "    The solution minimizes the squared error\n",
      "    \n",
      "    .. math ::\n",
      "        E = \\sum_{j=0}^k |p(x_j) - y_j|^2\n",
      "    \n",
      "    in the equations::\n",
      "    \n",
      "        x[0]**n * p[0] + ... + x[0] * p[n-1] + p[n] = y[0]\n",
      "        x[1]**n * p[0] + ... + x[1] * p[n-1] + p[n] = y[1]\n",
      "        ...\n",
      "        x[k]**n * p[0] + ... + x[k] * p[n-1] + p[n] = y[k]\n",
      "    \n",
      "    The coefficient matrix of the coefficients `p` is a Vandermonde matrix.\n",
      "    \n",
      "    `polyfit` issues a `RankWarning` when the least-squares fit is badly\n",
      "    conditioned. This implies that the best fit is not well-defined due\n",
      "    to numerical error. The results may be improved by lowering the polynomial\n",
      "    degree or by replacing `x` by `x` - `x`.mean(). The `rcond` parameter\n",
      "    can also be set to a value smaller than its default, but the resulting\n",
      "    fit may be spurious: including contributions from the small singular\n",
      "    values can add numerical noise to the result.\n",
      "    \n",
      "    Note that fitting polynomial coefficients is inherently badly conditioned\n",
      "    when the degree of the polynomial is large or the interval of sample points\n",
      "    is badly centered. The quality of the fit should always be checked in these\n",
      "    cases. When polynomial fits are not satisfactory, splines may be a good\n",
      "    alternative.\n",
      "    \n",
      "    References\n",
      "    ----------\n",
      "    .. [1] Wikipedia, \"Curve fitting\",\n",
      "           https://en.wikipedia.org/wiki/Curve_fitting\n",
      "    .. [2] Wikipedia, \"Polynomial interpolation\",\n",
      "           https://en.wikipedia.org/wiki/Polynomial_interpolation\n",
      "    \n",
      "    Examples\n",
      "    --------\n",
      "    >>> import warnings\n",
      "    >>> x = np.array([0.0, 1.0, 2.0, 3.0,  4.0,  5.0])\n",
      "    >>> y = np.array([0.0, 0.8, 0.9, 0.1, -0.8, -1.0])\n",
      "    >>> z = np.polyfit(x, y, 3)\n",
      "    >>> z\n",
      "    array([ 0.08703704, -0.81349206,  1.69312169, -0.03968254]) # may vary\n",
      "    \n",
      "    It is convenient to use `poly1d` objects for dealing with polynomials:\n",
      "    \n",
      "    >>> p = np.poly1d(z)\n",
      "    >>> p(0.5)\n",
      "    0.6143849206349179 # may vary\n",
      "    >>> p(3.5)\n",
      "    -0.34732142857143039 # may vary\n",
      "    >>> p(10)\n",
      "    22.579365079365115 # may vary\n",
      "    \n",
      "    High-order polynomials may oscillate wildly:\n",
      "    \n",
      "    >>> with warnings.catch_warnings():\n",
      "    ...     warnings.simplefilter('ignore', np.RankWarning)\n",
      "    ...     p30 = np.poly1d(np.polyfit(x, y, 30))\n",
      "    ...\n",
      "    >>> p30(4)\n",
      "    -0.80000000000000204 # may vary\n",
      "    >>> p30(5)\n",
      "    -0.99999999999999445 # may vary\n",
      "    >>> p30(4.5)\n",
      "    -0.10547061179440398 # may vary\n",
      "    \n",
      "    Illustration:\n",
      "    \n",
      "    >>> import matplotlib.pyplot as plt\n",
      "    >>> xp = np.linspace(-2, 6, 100)\n",
      "    >>> _ = plt.plot(x, y, '.', xp, p(xp), '-', xp, p30(xp), '--')\n",
      "    >>> plt.ylim(-2,2)\n",
      "    (-2, 2)\n",
      "    >>> plt.show()\n",
      "\n"
     ]
    }
   ],
   "source": [
    "help(np.polyfit)"
   ]
  },
  {
   "cell_type": "code",
   "execution_count": 10,
   "metadata": {},
   "outputs": [
    {
     "data": {
      "text/plain": [
       "array([0.04868788, 4.24302822])"
      ]
     },
     "execution_count": 10,
     "metadata": {},
     "output_type": "execute_result"
    }
   ],
   "source": [
    "# Using NP polyfit for Simple Linear Regression. \n",
    "# B1 and B0 ---- HIGHER POWER FIRST\n",
    "np.polyfit(X, y, deg=1)"
   ]
  },
  {
   "cell_type": "code",
   "execution_count": 11,
   "metadata": {},
   "outputs": [
    {
     "data": {
      "text/plain": [
       "<AxesSubplot:xlabel='total_spend', ylabel='sales'>"
      ]
     },
     "execution_count": 11,
     "metadata": {},
     "output_type": "execute_result"
    },
    {
     "data": {
      "image/png": "[encoded data removed]",
      "text/plain": [
       "<Figure size 432x288 with 1 Axes>"
      ]
     },
     "metadata": {
      "needs_background": "light"
     },
     "output_type": "display_data"
    }
   ],
   "source": [
    "plt.plot(np.linspace(0,450,100), 0.04868788*np.linspace(0,450,100)+4.24302822, color='red')\n",
    "sns.scatterplot(data=df, x='total_spend', y='sales')"
   ]
  },
  {
   "cell_type": "code",
   "execution_count": 12,
   "metadata": {},
   "outputs": [
    {
     "data": {
      "text/plain": [
       "array([ 3.07615033e-07, -1.89392449e-04,  8.20886302e-02,  2.70495053e+00])"
      ]
     },
     "execution_count": 12,
     "metadata": {},
     "output_type": "execute_result"
    }
   ],
   "source": [
    "np.polyfit(X, y, deg=3)"
   ]
  },
  {
   "cell_type": "code",
   "execution_count": 13,
   "metadata": {},
   "outputs": [
    {
     "data": {
      "text/plain": [
       "<AxesSubplot:xlabel='total_spend', ylabel='sales'>"
      ]
     },
     "execution_count": 13,
     "metadata": {},
     "output_type": "execute_result"
    },
    {
     "data": {
      "image/png": "[encoded data removed]",
      "text/plain": [
       "<Figure size 432x288 with 1 Axes>"
      ]
     },
     "metadata": {
      "needs_background": "light"
     },
     "output_type": "display_data"
    }
   ],
   "source": [
    "x_val = np.linspace(0,450,100)\n",
    "y_val = 3.07615033e-07*x_val**3 + -1.89392449e-04*x_val**2 + 8.20886302e-02*x_val**1 + 2.70495053e+00\n",
    "plt.plot(x_val, y_val, color='red')\n",
    "sns.scatterplot(data=df, x='total_spend', y='sales')"
   ]
  },
  {
   "cell_type": "markdown",
   "metadata": {},
   "source": [
    "## Scikit-learn"
   ]
  },
  {
   "cell_type": "code",
   "execution_count": 14,
   "metadata": {},
   "outputs": [
    {
     "data": {
      "text/html": [
       "<div>\n",
       "<style scoped>\n",
       "    .dataframe tbody tr th:only-of-type {\n",
       "        vertical-align: middle;\n",
       "    }\n",
       "\n",
       "    .dataframe tbody tr th {\n",
       "        vertical-align: top;\n",
       "    }\n",
       "\n",
       "    .dataframe thead th {\n",
       "        text-align: right;\n",
       "    }\n",
       "</style>\n",
       "<table border=\"1\" class=\"dataframe\">\n",
       "  <thead>\n",
       "    <tr style=\"text-align: right;\">\n",
       "      <th></th>\n",
       "      <th>TV</th>\n",
       "      <th>radio</th>\n",
       "      <th>newspaper</th>\n",
       "      <th>sales</th>\n",
       "    </tr>\n",
       "  </thead>\n",
       "  <tbody>\n",
       "    <tr>\n",
       "      <th>0</th>\n",
       "      <td>230.1</td>\n",
       "      <td>37.8</td>\n",
       "      <td>69.2</td>\n",
       "      <td>22.1</td>\n",
       "    </tr>\n",
       "    <tr>\n",
       "      <th>1</th>\n",
       "      <td>44.5</td>\n",
       "      <td>39.3</td>\n",
       "      <td>45.1</td>\n",
       "      <td>10.4</td>\n",
       "    </tr>\n",
       "    <tr>\n",
       "      <th>2</th>\n",
       "      <td>17.2</td>\n",
       "      <td>45.9</td>\n",
       "      <td>69.3</td>\n",
       "      <td>9.3</td>\n",
       "    </tr>\n",
       "    <tr>\n",
       "      <th>3</th>\n",
       "      <td>151.5</td>\n",
       "      <td>41.3</td>\n",
       "      <td>58.5</td>\n",
       "      <td>18.5</td>\n",
       "    </tr>\n",
       "    <tr>\n",
       "      <th>4</th>\n",
       "      <td>180.8</td>\n",
       "      <td>10.8</td>\n",
       "      <td>58.4</td>\n",
       "      <td>12.9</td>\n",
       "    </tr>\n",
       "  </tbody>\n",
       "</table>\n",
       "</div>"
      ],
      "text/plain": [
       "      TV  radio  newspaper  sales\n",
       "0  230.1   37.8       69.2   22.1\n",
       "1   44.5   39.3       45.1   10.4\n",
       "2   17.2   45.9       69.3    9.3\n",
       "3  151.5   41.3       58.5   18.5\n",
       "4  180.8   10.8       58.4   12.9"
      ]
     },
     "execution_count": 14,
     "metadata": {},
     "output_type": "execute_result"
    }
   ],
   "source": [
    "# Reset dataset to original\n",
    "df = df_raw.copy()\n",
    "df.head()"
   ]
  },
  {
   "cell_type": "code",
   "execution_count": 15,
   "metadata": {},
   "outputs": [
    {
     "data": {
      "image/png": "[encoded data removed]",
      "text/plain": [
       "<Figure size 1080x360 with 3 Axes>"
      ]
     },
     "metadata": {
      "needs_background": "light"
     },
     "output_type": "display_data"
    }
   ],
   "source": [
    "plt.figure(figsize=(15,5))\n",
    "plt.subplot(1,3,1), sns.scatterplot(data=df, x='TV', y='sales')\n",
    "plt.subplot(1,3,2), sns.scatterplot(data=df, x='radio', y='sales')\n",
    "plt.subplot(1,3,3), sns.scatterplot(data=df, x='newspaper', y='sales')\n",
    "plt.tight_layout()"
   ]
  },
  {
   "cell_type": "code",
   "execution_count": 16,
   "metadata": {},
   "outputs": [
    {
     "data": {
      "text/plain": [
       "<AxesSubplot:>"
      ]
     },
     "execution_count": 16,
     "metadata": {},
     "output_type": "execute_result"
    },
    {
     "data": {
      "image/png": "[encoded data removed]",
      "text/plain": [
       "<Figure size 432x288 with 2 Axes>"
      ]
     },
     "metadata": {
      "needs_background": "light"
     },
     "output_type": "display_data"
    }
   ],
   "source": [
    "sns.heatmap(df.corr(), cmap='coolwarm', annot=True, mask=np.triu(np.ones([4,4]), k=1), fmt='.2f')"
   ]
  },
  {
   "cell_type": "code",
   "execution_count": 17,
   "metadata": {},
   "outputs": [
    {
     "name": "stdout",
     "output_type": "stream",
     "text": [
      "(200, 4) (140, 3) (60, 3)\n",
      "Intercept = 3.15\n"
     ]
    },
    {
     "data": {
      "text/html": [
       "<div>\n",
       "<style scoped>\n",
       "    .dataframe tbody tr th:only-of-type {\n",
       "        vertical-align: middle;\n",
       "    }\n",
       "\n",
       "    .dataframe tbody tr th {\n",
       "        vertical-align: top;\n",
       "    }\n",
       "\n",
       "    .dataframe thead th {\n",
       "        text-align: right;\n",
       "    }\n",
       "</style>\n",
       "<table border=\"1\" class=\"dataframe\">\n",
       "  <thead>\n",
       "    <tr style=\"text-align: right;\">\n",
       "      <th></th>\n",
       "      <th>Coefficients</th>\n",
       "    </tr>\n",
       "  </thead>\n",
       "  <tbody>\n",
       "    <tr>\n",
       "      <th>TV</th>\n",
       "      <td>0.044696</td>\n",
       "    </tr>\n",
       "    <tr>\n",
       "      <th>radio</th>\n",
       "      <td>0.187566</td>\n",
       "    </tr>\n",
       "    <tr>\n",
       "      <th>newspaper</th>\n",
       "      <td>-0.000323</td>\n",
       "    </tr>\n",
       "  </tbody>\n",
       "</table>\n",
       "</div>"
      ],
      "text/plain": [
       "           Coefficients\n",
       "TV             0.044696\n",
       "radio          0.187566\n",
       "newspaper     -0.000323"
      ]
     },
     "metadata": {},
     "output_type": "display_data"
    },
    {
     "name": "stdout",
     "output_type": "stream",
     "text": [
      "MAE  = 1.21\n",
      "MSE  = 2.30\n",
      "RMSE = 1.52\n"
     ]
    }
   ],
   "source": [
    "X = df.drop(columns='sales')\n",
    "y = df['sales'].copy()\n",
    "\n",
    "def lm_run(X, y):\n",
    "    X_train, X_test, y_train, y_test = train_test_split(X, y, test_size=0.3, random_state=101)\n",
    "    print(df.shape, X_train.shape, X_test.shape)\n",
    "    \n",
    "    lm = LinearRegression()\n",
    "    lm.fit(X_train,y_train)\n",
    "    y_pred = lm.predict(X_test)\n",
    "\n",
    "    print('Intercept = {:.2f}'.format(lm.intercept_))\n",
    "    coeff = pd.DataFrame(data=lm.coef_.reshape(-1,1), index=X.columns, columns=['Coefficients'])\n",
    "    display(coeff)\n",
    "\n",
    "    print('MAE  = {:.2f}'.format(mean_absolute_error(y_test, y_pred)))\n",
    "    print('MSE  = {:.2f}'.format(mean_squared_error(y_test, y_pred)))\n",
    "    print('RMSE = {:.2f}'.format(np.sqrt(mean_squared_error(y_test, y_pred))))\n",
    "    \n",
    "    return y_pred, y_test\n",
    "    \n",
    "y_pred, y_test = lm_run(X,y)"
   ]
  },
  {
   "cell_type": "code",
   "execution_count": 18,
   "metadata": {},
   "outputs": [
    {
     "data": {
      "text/html": [
       "<div>\n",
       "<style scoped>\n",
       "    .dataframe tbody tr th:only-of-type {\n",
       "        vertical-align: middle;\n",
       "    }\n",
       "\n",
       "    .dataframe tbody tr th {\n",
       "        vertical-align: top;\n",
       "    }\n",
       "\n",
       "    .dataframe thead th {\n",
       "        text-align: right;\n",
       "    }\n",
       "</style>\n",
       "<table border=\"1\" class=\"dataframe\">\n",
       "  <thead>\n",
       "    <tr style=\"text-align: right;\">\n",
       "      <th></th>\n",
       "      <th>tv</th>\n",
       "      <th>radio</th>\n",
       "      <th>news</th>\n",
       "      <th>tv_radio</th>\n",
       "      <th>tv2</th>\n",
       "      <th>radio2</th>\n",
       "    </tr>\n",
       "  </thead>\n",
       "  <tbody>\n",
       "    <tr>\n",
       "      <th>0</th>\n",
       "      <td>230.1</td>\n",
       "      <td>37.8</td>\n",
       "      <td>69.2</td>\n",
       "      <td>8697.78</td>\n",
       "      <td>52946.01</td>\n",
       "      <td>1428.84</td>\n",
       "    </tr>\n",
       "    <tr>\n",
       "      <th>1</th>\n",
       "      <td>44.5</td>\n",
       "      <td>39.3</td>\n",
       "      <td>45.1</td>\n",
       "      <td>1748.85</td>\n",
       "      <td>1980.25</td>\n",
       "      <td>1544.49</td>\n",
       "    </tr>\n",
       "  </tbody>\n",
       "</table>\n",
       "</div>"
      ],
      "text/plain": [
       "      tv  radio  news  tv_radio       tv2   radio2\n",
       "0  230.1   37.8  69.2   8697.78  52946.01  1428.84\n",
       "1   44.5   39.3  45.1   1748.85   1980.25  1544.49"
      ]
     },
     "metadata": {},
     "output_type": "display_data"
    },
    {
     "name": "stdout",
     "output_type": "stream",
     "text": [
      "(200, 4) (140, 6) (60, 6)\n",
      "Intercept = 5.21\n"
     ]
    },
    {
     "data": {
      "text/html": [
       "<div>\n",
       "<style scoped>\n",
       "    .dataframe tbody tr th:only-of-type {\n",
       "        vertical-align: middle;\n",
       "    }\n",
       "\n",
       "    .dataframe tbody tr th {\n",
       "        vertical-align: top;\n",
       "    }\n",
       "\n",
       "    .dataframe thead th {\n",
       "        text-align: right;\n",
       "    }\n",
       "</style>\n",
       "<table border=\"1\" class=\"dataframe\">\n",
       "  <thead>\n",
       "    <tr style=\"text-align: right;\">\n",
       "      <th></th>\n",
       "      <th>Coefficients</th>\n",
       "    </tr>\n",
       "  </thead>\n",
       "  <tbody>\n",
       "    <tr>\n",
       "      <th>tv</th>\n",
       "      <td>0.051301</td>\n",
       "    </tr>\n",
       "    <tr>\n",
       "      <th>radio</th>\n",
       "      <td>0.018739</td>\n",
       "    </tr>\n",
       "    <tr>\n",
       "      <th>news</th>\n",
       "      <td>0.005144</td>\n",
       "    </tr>\n",
       "    <tr>\n",
       "      <th>tv_radio</th>\n",
       "      <td>0.001110</td>\n",
       "    </tr>\n",
       "    <tr>\n",
       "      <th>tv2</th>\n",
       "      <td>-0.000113</td>\n",
       "    </tr>\n",
       "    <tr>\n",
       "      <th>radio2</th>\n",
       "      <td>0.000113</td>\n",
       "    </tr>\n",
       "  </tbody>\n",
       "</table>\n",
       "</div>"
      ],
      "text/plain": [
       "          Coefficients\n",
       "tv            0.051301\n",
       "radio         0.018739\n",
       "news          0.005144\n",
       "tv_radio      0.001110\n",
       "tv2          -0.000113\n",
       "radio2        0.000113"
      ]
     },
     "metadata": {},
     "output_type": "display_data"
    },
    {
     "name": "stdout",
     "output_type": "stream",
     "text": [
      "MAE  = 0.49\n",
      "MSE  = 0.43\n",
      "RMSE = 0.66\n"
     ]
    }
   ],
   "source": [
    "#Enhancing features manually:\n",
    "X_en = pd.concat([X, X['TV']*X['radio'], X['TV']**2, X['radio']**2], axis=1)\n",
    "X_en.columns = ['tv','radio','news','tv_radio','tv2','radio2']\n",
    "display(X_en.head(2))\n",
    "\n",
    "y_pred_en, y_test_en = lm_run(X_en, y)"
   ]
  },
  {
   "cell_type": "code",
   "execution_count": 19,
   "metadata": {},
   "outputs": [],
   "source": [
    "def lm_plots(y_test, y_pred):\n",
    "    res = y_test- y_pred\n",
    "    \n",
    "    fig, ax = plt.subplots(1,3, figsize=(15,5))\n",
    "    \n",
    "    plt.subplot(1,3,1)\n",
    "    sns.scatterplot(x=y_test, y=res).set(xlabel='Y actual', ylabel='Residual', title='Residual vs. True')\n",
    "    plt.axhline(y=0, color='red', ls='--')\n",
    "    \n",
    "    plt.subplot(1,3,2)\n",
    "    sns.histplot(res, bins=10, kde=True).set(title='Histogram')\n",
    "    \n",
    "    plt.subplot(1,3,3)\n",
    "    sp.stats.probplot(res, plot=plt)"
   ]
  },
  {
   "cell_type": "code",
   "execution_count": 20,
   "metadata": {},
   "outputs": [
    {
     "data": {
      "image/png": "[encoded data removed]",
      "text/plain": [
       "<Figure size 1080x360 with 3 Axes>"
      ]
     },
     "metadata": {
      "needs_background": "light"
     },
     "output_type": "display_data"
    }
   ],
   "source": [
    "lm_plots(y_test, y_pred)"
   ]
  },
  {
   "cell_type": "code",
   "execution_count": 21,
   "metadata": {},
   "outputs": [
    {
     "data": {
      "image/png": "[encoded data removed]",
      "text/plain": [
       "<Figure size 1080x360 with 3 Axes>"
      ]
     },
     "metadata": {
      "needs_background": "light"
     },
     "output_type": "display_data"
    }
   ],
   "source": [
    "lm_plots(y_test_en, y_pred_en)"
   ]
  },
  {
   "cell_type": "code",
   "execution_count": 22,
   "metadata": {},
   "outputs": [
    {
     "data": {
      "text/html": [
       "<table class=\"simpletable\">\n",
       "<caption>OLS Regression Results</caption>\n",
       "<tr>\n",
       "  <th>Dep. Variable:</th>          <td>sales</td>      <th>  R-squared:         </th> <td>   0.986</td> \n",
       "</tr>\n",
       "<tr>\n",
       "  <th>Model:</th>                   <td>OLS</td>       <th>  Adj. R-squared:    </th> <td>   0.986</td> \n",
       "</tr>\n",
       "<tr>\n",
       "  <th>Method:</th>             <td>Least Squares</td>  <th>  F-statistic:       </th> <td>   2740.</td> \n",
       "</tr>\n",
       "<tr>\n",
       "  <th>Date:</th>             <td>Mon, 17 Jan 2022</td> <th>  Prob (F-statistic):</th> <td>8.17e-178</td>\n",
       "</tr>\n",
       "<tr>\n",
       "  <th>Time:</th>                 <td>10:44:05</td>     <th>  Log-Likelihood:    </th> <td> -186.54</td> \n",
       "</tr>\n",
       "<tr>\n",
       "  <th>No. Observations:</th>      <td>   200</td>      <th>  AIC:               </th> <td>   385.1</td> \n",
       "</tr>\n",
       "<tr>\n",
       "  <th>Df Residuals:</th>          <td>   194</td>      <th>  BIC:               </th> <td>   404.9</td> \n",
       "</tr>\n",
       "<tr>\n",
       "  <th>Df Model:</th>              <td>     5</td>      <th>                     </th>     <td> </td>    \n",
       "</tr>\n",
       "<tr>\n",
       "  <th>Covariance Type:</th>      <td>nonrobust</td>    <th>                     </th>     <td> </td>    \n",
       "</tr>\n",
       "</table>\n",
       "<table class=\"simpletable\">\n",
       "<tr>\n",
       "      <td></td>         <th>coef</th>     <th>std err</th>      <th>t</th>      <th>P>|t|</th>  <th>[0.025</th>    <th>0.975]</th>  \n",
       "</tr>\n",
       "<tr>\n",
       "  <th>Intercept</th> <td>    5.1944</td> <td>    0.206</td> <td>   25.202</td> <td> 0.000</td> <td>    4.788</td> <td>    5.601</td>\n",
       "</tr>\n",
       "<tr>\n",
       "  <th>tv</th>        <td>    0.0510</td> <td>    0.002</td> <td>   22.801</td> <td> 0.000</td> <td>    0.047</td> <td>    0.055</td>\n",
       "</tr>\n",
       "<tr>\n",
       "  <th>radio</th>     <td>    0.0265</td> <td>    0.012</td> <td>    2.136</td> <td> 0.034</td> <td>    0.002</td> <td>    0.051</td>\n",
       "</tr>\n",
       "<tr>\n",
       "  <th>tv_radio</th>  <td>    0.0011</td> <td> 3.48e-05</td> <td>   30.892</td> <td> 0.000</td> <td>    0.001</td> <td>    0.001</td>\n",
       "</tr>\n",
       "<tr>\n",
       "  <th>tv2</th>       <td>   -0.0001</td> <td>  6.9e-06</td> <td>  -15.914</td> <td> 0.000</td> <td>   -0.000</td> <td>-9.62e-05</td>\n",
       "</tr>\n",
       "<tr>\n",
       "  <th>radio2</th>    <td>    0.0002</td> <td>    0.000</td> <td>    0.789</td> <td> 0.431</td> <td>   -0.000</td> <td>    0.001</td>\n",
       "</tr>\n",
       "</table>\n",
       "<table class=\"simpletable\">\n",
       "<tr>\n",
       "  <th>Omnibus:</th>       <td>170.235</td> <th>  Durbin-Watson:     </th> <td>   2.200</td>\n",
       "</tr>\n",
       "<tr>\n",
       "  <th>Prob(Omnibus):</th> <td> 0.000</td>  <th>  Jarque-Bera (JB):  </th> <td>4115.221</td>\n",
       "</tr>\n",
       "<tr>\n",
       "  <th>Skew:</th>          <td>-2.994</td>  <th>  Prob(JB):          </th> <td>    0.00</td>\n",
       "</tr>\n",
       "<tr>\n",
       "  <th>Kurtosis:</th>      <td>24.400</td>  <th>  Cond. No.          </th> <td>1.81e+05</td>\n",
       "</tr>\n",
       "</table><br/><br/>Notes:<br/>[1] Standard Errors assume that the covariance matrix of the errors is correctly specified.<br/>[2] The condition number is large, 1.81e+05. This might indicate that there are<br/>strong multicollinearity or other numerical problems."
      ],
      "text/plain": [
       "<class 'statsmodels.iolib.summary.Summary'>\n",
       "\"\"\"\n",
       "                            OLS Regression Results                            \n",
       "==============================================================================\n",
       "Dep. Variable:                  sales   R-squared:                       0.986\n",
       "Model:                            OLS   Adj. R-squared:                  0.986\n",
       "Method:                 Least Squares   F-statistic:                     2740.\n",
       "Date:                Mon, 17 Jan 2022   Prob (F-statistic):          8.17e-178\n",
       "Time:                        10:44:05   Log-Likelihood:                -186.54\n",
       "No. Observations:                 200   AIC:                             385.1\n",
       "Df Residuals:                     194   BIC:                             404.9\n",
       "Df Model:                           5                                         \n",
       "Covariance Type:            nonrobust                                         \n",
       "==============================================================================\n",
       "                 coef    std err          t      P>|t|      [0.025      0.975]\n",
       "------------------------------------------------------------------------------\n",
       "Intercept      5.1944      0.206     25.202      0.000       4.788       5.601\n",
       "tv             0.0510      0.002     22.801      0.000       0.047       0.055\n",
       "radio          0.0265      0.012      2.136      0.034       0.002       0.051\n",
       "tv_radio       0.0011   3.48e-05     30.892      0.000       0.001       0.001\n",
       "tv2           -0.0001    6.9e-06    -15.914      0.000      -0.000   -9.62e-05\n",
       "radio2         0.0002      0.000      0.789      0.431      -0.000       0.001\n",
       "==============================================================================\n",
       "Omnibus:                      170.235   Durbin-Watson:                   2.200\n",
       "Prob(Omnibus):                  0.000   Jarque-Bera (JB):             4115.221\n",
       "Skew:                          -2.994   Prob(JB):                         0.00\n",
       "Kurtosis:                      24.400   Cond. No.                     1.81e+05\n",
       "==============================================================================\n",
       "\n",
       "Notes:\n",
       "[1] Standard Errors assume that the covariance matrix of the errors is correctly specified.\n",
       "[2] The condition number is large, 1.81e+05. This might indicate that there are\n",
       "strong multicollinearity or other numerical problems.\n",
       "\"\"\""
      ]
     },
     "execution_count": 22,
     "metadata": {},
     "output_type": "execute_result"
    }
   ],
   "source": [
    "df = pd.concat([X_en,y], axis=1)\n",
    "model = ols(\"sales ~ tv +radio +tv_radio +tv2 +radio2\", data=df)\n",
    "model.fit().summary()"
   ]
  },
  {
   "cell_type": "markdown",
   "metadata": {},
   "source": [
    "## Model Deployment: Dumping & Loading"
   ]
  },
  {
   "cell_type": "code",
   "execution_count": 23,
   "metadata": {},
   "outputs": [
    {
     "name": "stdout",
     "output_type": "stream",
     "text": [
      "Intercept = 5.13\n"
     ]
    },
    {
     "data": {
      "text/html": [
       "<div>\n",
       "<style scoped>\n",
       "    .dataframe tbody tr th:only-of-type {\n",
       "        vertical-align: middle;\n",
       "    }\n",
       "\n",
       "    .dataframe tbody tr th {\n",
       "        vertical-align: top;\n",
       "    }\n",
       "\n",
       "    .dataframe thead th {\n",
       "        text-align: right;\n",
       "    }\n",
       "</style>\n",
       "<table border=\"1\" class=\"dataframe\">\n",
       "  <thead>\n",
       "    <tr style=\"text-align: right;\">\n",
       "      <th></th>\n",
       "      <th>Coefficients</th>\n",
       "    </tr>\n",
       "  </thead>\n",
       "  <tbody>\n",
       "    <tr>\n",
       "      <th>tv</th>\n",
       "      <td>0.051062</td>\n",
       "    </tr>\n",
       "    <tr>\n",
       "      <th>radio</th>\n",
       "      <td>0.025975</td>\n",
       "    </tr>\n",
       "    <tr>\n",
       "      <th>news</th>\n",
       "      <td>0.003174</td>\n",
       "    </tr>\n",
       "    <tr>\n",
       "      <th>tv_radio</th>\n",
       "      <td>0.001077</td>\n",
       "    </tr>\n",
       "    <tr>\n",
       "      <th>tv2</th>\n",
       "      <td>-0.000110</td>\n",
       "    </tr>\n",
       "    <tr>\n",
       "      <th>radio2</th>\n",
       "      <td>0.000158</td>\n",
       "    </tr>\n",
       "  </tbody>\n",
       "</table>\n",
       "</div>"
      ],
      "text/plain": [
       "          Coefficients\n",
       "tv            0.051062\n",
       "radio         0.025975\n",
       "news          0.003174\n",
       "tv_radio      0.001077\n",
       "tv2          -0.000110\n",
       "radio2        0.000158"
      ]
     },
     "metadata": {},
     "output_type": "display_data"
    },
    {
     "data": {
      "text/plain": [
       "['advertising_final_model.joblib']"
      ]
     },
     "execution_count": 23,
     "metadata": {},
     "output_type": "execute_result"
    }
   ],
   "source": [
    "final_model = LinearRegression()\n",
    "final_model.fit(X_en,y)\n",
    "\n",
    "lm = final_model\n",
    "print('Intercept = {:.2f}'.format(lm.intercept_))\n",
    "coeff = pd.DataFrame(data=lm.coef_.reshape(-1,1), index=X_en.columns, columns=['Coefficients'])\n",
    "display(coeff)\n",
    "\n",
    "\n",
    "from joblib import dump, load\n",
    "dump(final_model, 'advertising_final_model.joblib')"
   ]
  },
  {
   "cell_type": "code",
   "execution_count": 24,
   "metadata": {},
   "outputs": [
    {
     "name": "stdout",
     "output_type": "stream",
     "text": [
      "Intercept = 5.13\n"
     ]
    },
    {
     "data": {
      "text/html": [
       "<div>\n",
       "<style scoped>\n",
       "    .dataframe tbody tr th:only-of-type {\n",
       "        vertical-align: middle;\n",
       "    }\n",
       "\n",
       "    .dataframe tbody tr th {\n",
       "        vertical-align: top;\n",
       "    }\n",
       "\n",
       "    .dataframe thead th {\n",
       "        text-align: right;\n",
       "    }\n",
       "</style>\n",
       "<table border=\"1\" class=\"dataframe\">\n",
       "  <thead>\n",
       "    <tr style=\"text-align: right;\">\n",
       "      <th></th>\n",
       "      <th>Coefficients</th>\n",
       "    </tr>\n",
       "  </thead>\n",
       "  <tbody>\n",
       "    <tr>\n",
       "      <th>tv</th>\n",
       "      <td>0.051062</td>\n",
       "    </tr>\n",
       "    <tr>\n",
       "      <th>radio</th>\n",
       "      <td>0.025975</td>\n",
       "    </tr>\n",
       "    <tr>\n",
       "      <th>news</th>\n",
       "      <td>0.003174</td>\n",
       "    </tr>\n",
       "    <tr>\n",
       "      <th>tv_radio</th>\n",
       "      <td>0.001077</td>\n",
       "    </tr>\n",
       "    <tr>\n",
       "      <th>tv2</th>\n",
       "      <td>-0.000110</td>\n",
       "    </tr>\n",
       "    <tr>\n",
       "      <th>radio2</th>\n",
       "      <td>0.000158</td>\n",
       "    </tr>\n",
       "  </tbody>\n",
       "</table>\n",
       "</div>"
      ],
      "text/plain": [
       "          Coefficients\n",
       "tv            0.051062\n",
       "radio         0.025975\n",
       "news          0.003174\n",
       "tv_radio      0.001077\n",
       "tv2          -0.000110\n",
       "radio2        0.000158"
      ]
     },
     "metadata": {},
     "output_type": "display_data"
    }
   ],
   "source": [
    "lm = load('advertising_final_model.joblib')\n",
    "\n",
    "print('Intercept = {:.2f}'.format(lm.intercept_))\n",
    "coeff = pd.DataFrame(data=lm.coef_.reshape(-1,1), index=X_en.columns, columns=['Coefficients'])\n",
    "display(coeff)"
   ]
  },
  {
   "cell_type": "code",
   "execution_count": 25,
   "metadata": {},
   "outputs": [],
   "source": [
    "# 149 TV, 22 Radio, 12 Newspaper\n",
    "campaign_val = [[149,22,12]]                                   # 2D array\n",
    "campaign_val[0].extend([campaign_val[0][0]*campaign_val[0][1],\n",
    "                        campaign_val[0][0]**2,\n",
    "                        campaign_val[0][1]**2])"
   ]
  },
  {
   "cell_type": "code",
   "execution_count": 26,
   "metadata": {},
   "outputs": [
    {
     "name": "stdout",
     "output_type": "stream",
     "text": [
      "[[149, 22, 12, 3278, 22201, 484]]\n"
     ]
    },
    {
     "data": {
      "text/plain": [
       "14.50382158544458"
      ]
     },
     "execution_count": 26,
     "metadata": {},
     "output_type": "execute_result"
    }
   ],
   "source": [
    "print(campaign_val)\n",
    "lm.predict(campaign_val)[0]"
   ]
  },
  {
   "cell_type": "markdown",
   "metadata": {},
   "source": [
    "## Scikit-learn - Preprocessing\n",
    "* Polynomial features\n",
    "* Standardisation / Normalization"
   ]
  },
  {
   "cell_type": "code",
   "execution_count": 27,
   "metadata": {},
   "outputs": [
    {
     "data": {
      "text/html": [
       "<div>\n",
       "<style scoped>\n",
       "    .dataframe tbody tr th:only-of-type {\n",
       "        vertical-align: middle;\n",
       "    }\n",
       "\n",
       "    .dataframe tbody tr th {\n",
       "        vertical-align: top;\n",
       "    }\n",
       "\n",
       "    .dataframe thead th {\n",
       "        text-align: right;\n",
       "    }\n",
       "</style>\n",
       "<table border=\"1\" class=\"dataframe\">\n",
       "  <thead>\n",
       "    <tr style=\"text-align: right;\">\n",
       "      <th></th>\n",
       "      <th>TV</th>\n",
       "      <th>radio</th>\n",
       "      <th>newspaper</th>\n",
       "      <th>sales</th>\n",
       "    </tr>\n",
       "  </thead>\n",
       "  <tbody>\n",
       "    <tr>\n",
       "      <th>0</th>\n",
       "      <td>230.1</td>\n",
       "      <td>37.8</td>\n",
       "      <td>69.2</td>\n",
       "      <td>22.1</td>\n",
       "    </tr>\n",
       "    <tr>\n",
       "      <th>1</th>\n",
       "      <td>44.5</td>\n",
       "      <td>39.3</td>\n",
       "      <td>45.1</td>\n",
       "      <td>10.4</td>\n",
       "    </tr>\n",
       "    <tr>\n",
       "      <th>2</th>\n",
       "      <td>17.2</td>\n",
       "      <td>45.9</td>\n",
       "      <td>69.3</td>\n",
       "      <td>9.3</td>\n",
       "    </tr>\n",
       "    <tr>\n",
       "      <th>3</th>\n",
       "      <td>151.5</td>\n",
       "      <td>41.3</td>\n",
       "      <td>58.5</td>\n",
       "      <td>18.5</td>\n",
       "    </tr>\n",
       "    <tr>\n",
       "      <th>4</th>\n",
       "      <td>180.8</td>\n",
       "      <td>10.8</td>\n",
       "      <td>58.4</td>\n",
       "      <td>12.9</td>\n",
       "    </tr>\n",
       "  </tbody>\n",
       "</table>\n",
       "</div>"
      ],
      "text/plain": [
       "      TV  radio  newspaper  sales\n",
       "0  230.1   37.8       69.2   22.1\n",
       "1   44.5   39.3       45.1   10.4\n",
       "2   17.2   45.9       69.3    9.3\n",
       "3  151.5   41.3       58.5   18.5\n",
       "4  180.8   10.8       58.4   12.9"
      ]
     },
     "execution_count": 27,
     "metadata": {},
     "output_type": "execute_result"
    }
   ],
   "source": [
    "# Reset dataset to original\n",
    "df = df_raw.copy()\n",
    "df.head()"
   ]
  },
  {
   "cell_type": "code",
   "execution_count": 28,
   "metadata": {},
   "outputs": [],
   "source": [
    "X = df.drop('sales', axis=1)\n",
    "y = df['sales']"
   ]
  },
  {
   "cell_type": "code",
   "execution_count": 29,
   "metadata": {},
   "outputs": [
    {
     "data": {
      "text/plain": [
       "(200, 10)"
      ]
     },
     "execution_count": 29,
     "metadata": {},
     "output_type": "execute_result"
    }
   ],
   "source": [
    "Poly_convert = PolynomialFeatures(degree=2, include_bias=True)\n",
    "\n",
    "X_poly = Poly_convert.fit_transform(X)         #fit, transform, fit_transform\n",
    "X_poly.shape"
   ]
  },
  {
   "cell_type": "code",
   "execution_count": 30,
   "metadata": {},
   "outputs": [
    {
     "data": {
      "text/plain": [
       "['1',\n",
       " 'TV',\n",
       " 'radio',\n",
       " 'newspaper',\n",
       " 'TV^2',\n",
       " 'TV radio',\n",
       " 'TV newspaper',\n",
       " 'radio^2',\n",
       " 'radio newspaper',\n",
       " 'newspaper^2']"
      ]
     },
     "execution_count": 30,
     "metadata": {},
     "output_type": "execute_result"
    }
   ],
   "source": [
    "Poly_convert.get_feature_names(X.columns)"
   ]
  },
  {
   "cell_type": "code",
   "execution_count": 31,
   "metadata": {},
   "outputs": [
    {
     "name": "stdout",
     "output_type": "stream",
     "text": [
      "(200, 9)\n",
      "(200, 4) (140, 9) (60, 9)\n",
      "Intercept = 5.13\n"
     ]
    },
    {
     "data": {
      "text/html": [
       "<div>\n",
       "<style scoped>\n",
       "    .dataframe tbody tr th:only-of-type {\n",
       "        vertical-align: middle;\n",
       "    }\n",
       "\n",
       "    .dataframe tbody tr th {\n",
       "        vertical-align: top;\n",
       "    }\n",
       "\n",
       "    .dataframe thead th {\n",
       "        text-align: right;\n",
       "    }\n",
       "</style>\n",
       "<table border=\"1\" class=\"dataframe\">\n",
       "  <thead>\n",
       "    <tr style=\"text-align: right;\">\n",
       "      <th></th>\n",
       "      <th>Coefficients</th>\n",
       "    </tr>\n",
       "  </thead>\n",
       "  <tbody>\n",
       "    <tr>\n",
       "      <th>TV</th>\n",
       "      <td>0.051710</td>\n",
       "    </tr>\n",
       "    <tr>\n",
       "      <th>radio</th>\n",
       "      <td>0.013085</td>\n",
       "    </tr>\n",
       "    <tr>\n",
       "      <th>newspaper</th>\n",
       "      <td>0.012000</td>\n",
       "    </tr>\n",
       "    <tr>\n",
       "      <th>TV^2</th>\n",
       "      <td>-0.000111</td>\n",
       "    </tr>\n",
       "    <tr>\n",
       "      <th>TV radio</th>\n",
       "      <td>0.001142</td>\n",
       "    </tr>\n",
       "    <tr>\n",
       "      <th>TV newspaper</th>\n",
       "      <td>-0.000052</td>\n",
       "    </tr>\n",
       "    <tr>\n",
       "      <th>radio^2</th>\n",
       "      <td>0.000033</td>\n",
       "    </tr>\n",
       "    <tr>\n",
       "      <th>radio newspaper</th>\n",
       "      <td>0.000146</td>\n",
       "    </tr>\n",
       "    <tr>\n",
       "      <th>newspaper^2</th>\n",
       "      <td>-0.000030</td>\n",
       "    </tr>\n",
       "  </tbody>\n",
       "</table>\n",
       "</div>"
      ],
      "text/plain": [
       "                 Coefficients\n",
       "TV                   0.051710\n",
       "radio                0.013085\n",
       "newspaper            0.012000\n",
       "TV^2                -0.000111\n",
       "TV radio             0.001142\n",
       "TV newspaper        -0.000052\n",
       "radio^2              0.000033\n",
       "radio newspaper      0.000146\n",
       "newspaper^2         -0.000030"
      ]
     },
     "metadata": {},
     "output_type": "display_data"
    },
    {
     "name": "stdout",
     "output_type": "stream",
     "text": [
      "MAE  = 0.49\n",
      "MSE  = 0.44\n",
      "RMSE = 0.66\n"
     ]
    }
   ],
   "source": [
    "def lm_run_d2(X, y):\n",
    "    \n",
    "    Poly_convert = PolynomialFeatures(degree=2, include_bias=False)\n",
    "    X_poly = Poly_convert.fit_transform(X)         #fit, transform, fit_transform\n",
    "    print(X_poly.shape)\n",
    "    \n",
    "    X_train, X_test, y_train, y_test = train_test_split(X_poly, y, test_size=0.3, random_state=101)\n",
    "    print(df.shape, X_train.shape, X_test.shape)\n",
    "    \n",
    "    lm = LinearRegression()\n",
    "    lm.fit(X_train,y_train)\n",
    "    y_pred = lm.predict(X_test)\n",
    "\n",
    "    print('Intercept = {:.2f}'.format(lm.intercept_))\n",
    "    coeff = pd.DataFrame(data=lm.coef_.reshape(-1,1), index=Poly_convert.get_feature_names(X.columns), columns=['Coefficients'])\n",
    "    display(coeff)\n",
    "\n",
    "    print('MAE  = {:.2f}'.format(mean_absolute_error(y_test, y_pred)))\n",
    "    print('MSE  = {:.2f}'.format(mean_squared_error(y_test, y_pred)))\n",
    "    print('RMSE = {:.2f}'.format(np.sqrt(mean_squared_error(y_test, y_pred))))\n",
    "    \n",
    "    return y_pred, y_test\n",
    "    \n",
    "y_pred, y_test = lm_run_d2(X,y)"
   ]
  },
  {
   "cell_type": "code",
   "execution_count": 32,
   "metadata": {},
   "outputs": [
    {
     "data": {
      "image/png": "[encoded data removed]",
      "text/plain": [
       "<Figure size 1080x360 with 3 Axes>"
      ]
     },
     "metadata": {
      "needs_background": "light"
     },
     "output_type": "display_data"
    }
   ],
   "source": [
    "lm_plots(y_test, y_pred)"
   ]
  },
  {
   "cell_type": "code",
   "execution_count": 33,
   "metadata": {},
   "outputs": [
    {
     "name": "stdout",
     "output_type": "stream",
     "text": [
      "1 RMSE Train = 1.73 and Test = 1.52\n",
      "2 RMSE Train = 0.59 and Test = 0.66\n",
      "3 RMSE Train = 0.43 and Test = 0.58\n",
      "4 RMSE Train = 0.47 and Test = 1.26\n",
      "5 RMSE Train = 0.28 and Test = 3.46\n"
     ]
    }
   ],
   "source": [
    "# Bias-Variance tradeoff\n",
    "\n",
    "def lm_run_dn(X, y, n):   \n",
    "    Poly_convert = PolynomialFeatures(degree=n, include_bias=True)\n",
    "    X_poly = Poly_convert.fit_transform(X)         #fit, transform, fit_transform\n",
    "    X_train, X_test, y_train, y_test = train_test_split(X_poly, y, test_size=0.3, random_state=101)\n",
    "        \n",
    "    lm = LinearRegression()\n",
    "    lm.fit(X_train,y_train)\n",
    "    err_train = np.sqrt(mean_squared_error(y_train, lm.predict(X_train)))\n",
    "    err_test  = np.sqrt(mean_squared_error(y_test, lm.predict(X_test)))  \n",
    "    print(n, 'RMSE Train = {0:.2f} and Test = {1:.2f}'.format(err_train, err_test))\n",
    "    return err_train, err_test\n",
    "\n",
    "err_train, err_test = [], []\n",
    "for n in range(1,6):\n",
    "    a, b = lm_run_dn(X, y, n)\n",
    "    err_train.append(a), err_test.append(b)"
   ]
  },
  {
   "cell_type": "code",
   "execution_count": 34,
   "metadata": {},
   "outputs": [
    {
     "data": {
      "text/plain": [
       "<matplotlib.legend.Legend at 0x1f2ff1c7e80>"
      ]
     },
     "execution_count": 34,
     "metadata": {},
     "output_type": "execute_result"
    },
    {
     "data": {
      "image/png": "[encoded data removed]",
      "text/plain": [
       "<Figure size 432x288 with 1 Axes>"
      ]
     },
     "metadata": {
      "needs_background": "light"
     },
     "output_type": "display_data"
    }
   ],
   "source": [
    "sns.lineplot(x=range(1,6), y=err_train, label='train')\n",
    "sns.lineplot(x=range(1,6), y=err_test, label='test')\n",
    "plt.legend()"
   ]
  },
  {
   "cell_type": "markdown",
   "metadata": {},
   "source": [
    "## Regularization\n",
    "* Feature scaling becomes important: **Standardisation** ($\\mu$=0, $\\sigma$=1), **Normalisation**: range [0,1]\n",
    "* Tuning hyper-parameter using Cross Validation"
   ]
  },
  {
   "cell_type": "code",
   "execution_count": 35,
   "metadata": {},
   "outputs": [],
   "source": [
    "# Reset dataset to original\n",
    "df = df_raw.copy()\n",
    "df.head()\n",
    "X = df.drop('sales', axis=1)\n",
    "y = df['sales']"
   ]
  },
  {
   "cell_type": "code",
   "execution_count": 36,
   "metadata": {},
   "outputs": [
    {
     "data": {
      "text/plain": [
       "(200, 9)"
      ]
     },
     "metadata": {},
     "output_type": "display_data"
    }
   ],
   "source": [
    "Poly_convert = PolynomialFeatures(degree=2, include_bias=False)\n",
    "X_poly = Poly_convert.fit_transform(X)\n",
    "display(X_poly.shape)"
   ]
  },
  {
   "cell_type": "code",
   "execution_count": 37,
   "metadata": {},
   "outputs": [],
   "source": [
    "X_train, X_test, y_train, y_test = train_test_split(X_poly, y, test_size=0.3, random_state=101)"
   ]
  },
  {
   "cell_type": "markdown",
   "metadata": {},
   "source": [
    "#### Feature Scaling"
   ]
  },
  {
   "cell_type": "code",
   "execution_count": 38,
   "metadata": {},
   "outputs": [],
   "source": [
    "\n",
    "scaler = StandardScaler()\n",
    "scaler.fit(X_train)                    # No Data Leakage from test data\n",
    "\n",
    "X_train = scaler.transform(X_train)\n",
    "X_test  = scaler.transform(X_test)"
   ]
  },
  {
   "cell_type": "markdown",
   "metadata": {},
   "source": [
    "#### Ridge - WITHOUT Cross Validation"
   ]
  },
  {
   "cell_type": "code",
   "execution_count": 39,
   "metadata": {},
   "outputs": [],
   "source": [
    "# Ridge Regression\n",
    "# help(Ridge)"
   ]
  },
  {
   "cell_type": "code",
   "execution_count": 40,
   "metadata": {},
   "outputs": [
    {
     "name": "stdout",
     "output_type": "stream",
     "text": [
      "RMSE = 0.91\n",
      "Intercept = 14.31\n"
     ]
    },
    {
     "data": {
      "text/html": [
       "<div>\n",
       "<style scoped>\n",
       "    .dataframe tbody tr th:only-of-type {\n",
       "        vertical-align: middle;\n",
       "    }\n",
       "\n",
       "    .dataframe tbody tr th {\n",
       "        vertical-align: top;\n",
       "    }\n",
       "\n",
       "    .dataframe thead th {\n",
       "        text-align: right;\n",
       "    }\n",
       "</style>\n",
       "<table border=\"1\" class=\"dataframe\">\n",
       "  <thead>\n",
       "    <tr style=\"text-align: right;\">\n",
       "      <th></th>\n",
       "      <th>Coefficients</th>\n",
       "    </tr>\n",
       "  </thead>\n",
       "  <tbody>\n",
       "    <tr>\n",
       "      <th>TV</th>\n",
       "      <td>2.025356</td>\n",
       "    </tr>\n",
       "    <tr>\n",
       "      <th>radio</th>\n",
       "      <td>0.575871</td>\n",
       "    </tr>\n",
       "    <tr>\n",
       "      <th>newspaper</th>\n",
       "      <td>0.023727</td>\n",
       "    </tr>\n",
       "    <tr>\n",
       "      <th>TV^2</th>\n",
       "      <td>-0.327342</td>\n",
       "    </tr>\n",
       "    <tr>\n",
       "      <th>TV radio</th>\n",
       "      <td>2.931528</td>\n",
       "    </tr>\n",
       "    <tr>\n",
       "      <th>TV newspaper</th>\n",
       "      <td>0.288801</td>\n",
       "    </tr>\n",
       "    <tr>\n",
       "      <th>radio^2</th>\n",
       "      <td>0.212280</td>\n",
       "    </tr>\n",
       "    <tr>\n",
       "      <th>radio newspaper</th>\n",
       "      <td>0.111816</td>\n",
       "    </tr>\n",
       "    <tr>\n",
       "      <th>newspaper^2</th>\n",
       "      <td>-0.290319</td>\n",
       "    </tr>\n",
       "  </tbody>\n",
       "</table>\n",
       "</div>"
      ],
      "text/plain": [
       "                 Coefficients\n",
       "TV                   2.025356\n",
       "radio                0.575871\n",
       "newspaper            0.023727\n",
       "TV^2                -0.327342\n",
       "TV radio             2.931528\n",
       "TV newspaper         0.288801\n",
       "radio^2              0.212280\n",
       "radio newspaper      0.111816\n",
       "newspaper^2         -0.290319"
      ]
     },
     "metadata": {},
     "output_type": "display_data"
    }
   ],
   "source": [
    "ridge_model = Ridge(alpha=10)            #Without Cross Validation\n",
    "ridge_model.fit(X_train, y_train)\n",
    "y_pred = ridge_model.predict(X_test)\n",
    "\n",
    "print('RMSE = {:.2f}'.format(np.sqrt(mean_squared_error(y_test, y_pred))))\n",
    "\n",
    "print('Intercept = {:.2f}'.format(ridge_model.intercept_))\n",
    "coeff = pd.DataFrame(data=ridge_model.coef_.reshape(-1,1), index=Poly_convert.get_feature_names(X.columns), columns=['Coefficients'])\n",
    "display(coeff)"
   ]
  },
  {
   "cell_type": "markdown",
   "metadata": {},
   "source": [
    "#### Ridge - WITH Cross Validation"
   ]
  },
  {
   "cell_type": "code",
   "execution_count": 41,
   "metadata": {},
   "outputs": [
    {
     "data": {
      "text/plain": [
       "dict_keys(['explained_variance', 'r2', 'max_error', 'neg_median_absolute_error', 'neg_mean_absolute_error', 'neg_mean_squared_error', 'neg_mean_squared_log_error', 'neg_root_mean_squared_error', 'neg_mean_poisson_deviance', 'neg_mean_gamma_deviance', 'accuracy', 'roc_auc', 'roc_auc_ovr', 'roc_auc_ovo', 'roc_auc_ovr_weighted', 'roc_auc_ovo_weighted', 'balanced_accuracy', 'average_precision', 'neg_log_loss', 'neg_brier_score', 'adjusted_rand_score', 'homogeneity_score', 'completeness_score', 'v_measure_score', 'mutual_info_score', 'adjusted_mutual_info_score', 'normalized_mutual_info_score', 'fowlkes_mallows_score', 'precision', 'precision_macro', 'precision_micro', 'precision_samples', 'precision_weighted', 'recall', 'recall_macro', 'recall_micro', 'recall_samples', 'recall_weighted', 'f1', 'f1_macro', 'f1_micro', 'f1_samples', 'f1_weighted', 'jaccard', 'jaccard_macro', 'jaccard_micro', 'jaccard_samples', 'jaccard_weighted'])"
      ]
     },
     "execution_count": 41,
     "metadata": {},
     "output_type": "execute_result"
    }
   ],
   "source": [
    "from sklearn.metrics import SCORERS\n",
    "SCORERS.keys()                            #Any of these metric can we used for scoring"
   ]
  },
  {
   "cell_type": "code",
   "execution_count": 42,
   "metadata": {},
   "outputs": [
    {
     "data": {
      "text/plain": [
       "1.0"
      ]
     },
     "execution_count": 42,
     "metadata": {},
     "output_type": "execute_result"
    }
   ],
   "source": [
    "ridge_cv_model = RidgeCV(alphas=(.01, 0.1, 1, 5, 10, 100), cv=10, scoring='neg_mean_absolute_error') #MAE\n",
    "ridge_cv_model.fit(X_train, y_train)\n",
    "ridge_cv_model.alpha_"
   ]
  },
  {
   "cell_type": "code",
   "execution_count": 43,
   "metadata": {},
   "outputs": [
    {
     "name": "stdout",
     "output_type": "stream",
     "text": [
      "alpha = 0.1\n",
      "RMSE = 0.66\n",
      "Intercept = 14.31\n"
     ]
    },
    {
     "data": {
      "text/html": [
       "<div>\n",
       "<style scoped>\n",
       "    .dataframe tbody tr th:only-of-type {\n",
       "        vertical-align: middle;\n",
       "    }\n",
       "\n",
       "    .dataframe tbody tr th {\n",
       "        vertical-align: top;\n",
       "    }\n",
       "\n",
       "    .dataframe thead th {\n",
       "        text-align: right;\n",
       "    }\n",
       "</style>\n",
       "<table border=\"1\" class=\"dataframe\">\n",
       "  <thead>\n",
       "    <tr style=\"text-align: right;\">\n",
       "      <th></th>\n",
       "      <th>Coefficients</th>\n",
       "    </tr>\n",
       "  </thead>\n",
       "  <tbody>\n",
       "    <tr>\n",
       "      <th>TV</th>\n",
       "      <td>4.276021</td>\n",
       "    </tr>\n",
       "    <tr>\n",
       "      <th>radio</th>\n",
       "      <td>0.207495</td>\n",
       "    </tr>\n",
       "    <tr>\n",
       "      <th>newspaper</th>\n",
       "      <td>0.259034</td>\n",
       "    </tr>\n",
       "    <tr>\n",
       "      <th>TV^2</th>\n",
       "      <td>-2.740519</td>\n",
       "    </tr>\n",
       "    <tr>\n",
       "      <th>TV radio</th>\n",
       "      <td>3.770400</td>\n",
       "    </tr>\n",
       "    <tr>\n",
       "      <th>TV newspaper</th>\n",
       "      <td>-0.262000</td>\n",
       "    </tr>\n",
       "    <tr>\n",
       "      <th>radio^2</th>\n",
       "      <td>0.018054</td>\n",
       "    </tr>\n",
       "    <tr>\n",
       "      <th>radio newspaper</th>\n",
       "      <td>0.129311</td>\n",
       "    </tr>\n",
       "    <tr>\n",
       "      <th>newspaper^2</th>\n",
       "      <td>-0.063729</td>\n",
       "    </tr>\n",
       "  </tbody>\n",
       "</table>\n",
       "</div>"
      ],
      "text/plain": [
       "                 Coefficients\n",
       "TV                   4.276021\n",
       "radio                0.207495\n",
       "newspaper            0.259034\n",
       "TV^2                -2.740519\n",
       "TV radio             3.770400\n",
       "TV newspaper        -0.262000\n",
       "radio^2              0.018054\n",
       "radio newspaper      0.129311\n",
       "newspaper^2         -0.063729"
      ]
     },
     "metadata": {},
     "output_type": "display_data"
    }
   ],
   "source": [
    "ridge_cv_model = RidgeCV(alphas=(.01, 0.1, 1, 5, 10, 100), cv=10, scoring='neg_root_mean_squared_error')  #RMSE\n",
    "ridge_cv_model.fit(X_train, y_train)\n",
    "print('alpha =', ridge_cv_model.alpha_)\n",
    "\n",
    "y_pred = ridge_cv_model.predict(X_test)  # X_test becomes 'holdout' over here\n",
    "print('RMSE = {:.2f}'.format(np.sqrt(mean_squared_error(y_test, y_pred))))\n",
    "\n",
    "# No Coefficients will be zero\n",
    "print('Intercept = {:.2f}'.format(ridge_cv_model.intercept_))\n",
    "coeff = pd.DataFrame(data=ridge_cv_model.coef_.reshape(-1,1), \n",
    "                     index=Poly_convert.get_feature_names(X.columns),\n",
    "                     columns=['Coefficients'])\n",
    "display(coeff)"
   ]
  },
  {
   "cell_type": "markdown",
   "metadata": {},
   "source": [
    "#### LASSO - WITH Cross Validation"
   ]
  },
  {
   "cell_type": "code",
   "execution_count": 44,
   "metadata": {},
   "outputs": [
    {
     "name": "stdout",
     "output_type": "stream",
     "text": [
      "alpha = 0.0081\n",
      "RMSE = 0.66\n",
      "Intercept = 14.31\n"
     ]
    },
    {
     "data": {
      "text/html": [
       "<div>\n",
       "<style scoped>\n",
       "    .dataframe tbody tr th:only-of-type {\n",
       "        vertical-align: middle;\n",
       "    }\n",
       "\n",
       "    .dataframe tbody tr th {\n",
       "        vertical-align: top;\n",
       "    }\n",
       "\n",
       "    .dataframe thead th {\n",
       "        text-align: right;\n",
       "    }\n",
       "</style>\n",
       "<table border=\"1\" class=\"dataframe\">\n",
       "  <thead>\n",
       "    <tr style=\"text-align: right;\">\n",
       "      <th></th>\n",
       "      <th>Coefficients</th>\n",
       "    </tr>\n",
       "  </thead>\n",
       "  <tbody>\n",
       "    <tr>\n",
       "      <th>TV</th>\n",
       "      <td>4.086835</td>\n",
       "    </tr>\n",
       "    <tr>\n",
       "      <th>radio</th>\n",
       "      <td>0.232181</td>\n",
       "    </tr>\n",
       "    <tr>\n",
       "      <th>newspaper</th>\n",
       "      <td>0.123490</td>\n",
       "    </tr>\n",
       "    <tr>\n",
       "      <th>TV^2</th>\n",
       "      <td>-2.593047</td>\n",
       "    </tr>\n",
       "    <tr>\n",
       "      <th>TV radio</th>\n",
       "      <td>3.754221</td>\n",
       "    </tr>\n",
       "    <tr>\n",
       "      <th>TV newspaper</th>\n",
       "      <td>-0.167838</td>\n",
       "    </tr>\n",
       "    <tr>\n",
       "      <th>radio^2</th>\n",
       "      <td>0.000000</td>\n",
       "    </tr>\n",
       "    <tr>\n",
       "      <th>radio newspaper</th>\n",
       "      <td>0.127180</td>\n",
       "    </tr>\n",
       "    <tr>\n",
       "      <th>newspaper^2</th>\n",
       "      <td>-0.000000</td>\n",
       "    </tr>\n",
       "  </tbody>\n",
       "</table>\n",
       "</div>"
      ],
      "text/plain": [
       "                 Coefficients\n",
       "TV                   4.086835\n",
       "radio                0.232181\n",
       "newspaper            0.123490\n",
       "TV^2                -2.593047\n",
       "TV radio             3.754221\n",
       "TV newspaper        -0.167838\n",
       "radio^2              0.000000\n",
       "radio newspaper      0.127180\n",
       "newspaper^2         -0.000000"
      ]
     },
     "metadata": {},
     "output_type": "display_data"
    }
   ],
   "source": [
    "lasso_cv_model = LassoCV() #Default searched over 1000x alpha space, 100 points in between\n",
    "lasso_cv_model.fit(X_train,y_train)\n",
    "print('alpha = {:.4f}'.format(lasso_cv_model.alpha_))\n",
    "\n",
    "y_pred = lasso_cv_model.predict(X_test)  # X_test becomes 'holdout' over here\n",
    "print('RMSE = {:.2f}'.format(np.sqrt(mean_squared_error(y_test, y_pred))))\n",
    "\n",
    "# Some Coefficients are Zero\n",
    "print('Intercept = {:.2f}'.format(lasso_cv_model.intercept_))\n",
    "coeff = pd.DataFrame(data=lasso_cv_model.coef_.reshape(-1,1), \n",
    "                     index=Poly_convert.get_feature_names(X.columns),\n",
    "                     columns=['Coefficients'])\n",
    "display(coeff)"
   ]
  },
  {
   "cell_type": "code",
   "execution_count": 45,
   "metadata": {},
   "outputs": [
    {
     "data": {
      "image/png": "[encoded data removed]",
      "text/plain": [
       "<Figure size 1080x360 with 3 Axes>"
      ]
     },
     "metadata": {
      "needs_background": "light"
     },
     "output_type": "display_data"
    }
   ],
   "source": [
    "lm_plots(y_test, y_pred)"
   ]
  },
  {
   "cell_type": "code",
   "execution_count": 46,
   "metadata": {},
   "outputs": [
    {
     "name": "stdout",
     "output_type": "stream",
     "text": [
      "alpha = 0.0008\n",
      "RMSE = 0.66\n",
      "Intercept = 14.31\n"
     ]
    },
    {
     "data": {
      "text/html": [
       "<div>\n",
       "<style scoped>\n",
       "    .dataframe tbody tr th:only-of-type {\n",
       "        vertical-align: middle;\n",
       "    }\n",
       "\n",
       "    .dataframe tbody tr th {\n",
       "        vertical-align: top;\n",
       "    }\n",
       "\n",
       "    .dataframe thead th {\n",
       "        text-align: right;\n",
       "    }\n",
       "</style>\n",
       "<table border=\"1\" class=\"dataframe\">\n",
       "  <thead>\n",
       "    <tr style=\"text-align: right;\">\n",
       "      <th></th>\n",
       "      <th>Coefficients</th>\n",
       "    </tr>\n",
       "  </thead>\n",
       "  <tbody>\n",
       "    <tr>\n",
       "      <th>TV</th>\n",
       "      <td>4.040799</td>\n",
       "    </tr>\n",
       "    <tr>\n",
       "      <th>radio</th>\n",
       "      <td>0.235684</td>\n",
       "    </tr>\n",
       "    <tr>\n",
       "      <th>newspaper</th>\n",
       "      <td>0.111224</td>\n",
       "    </tr>\n",
       "    <tr>\n",
       "      <th>TV^2</th>\n",
       "      <td>-2.553680</td>\n",
       "    </tr>\n",
       "    <tr>\n",
       "      <th>TV radio</th>\n",
       "      <td>3.750461</td>\n",
       "    </tr>\n",
       "    <tr>\n",
       "      <th>TV newspaper</th>\n",
       "      <td>-0.150838</td>\n",
       "    </tr>\n",
       "    <tr>\n",
       "      <th>radio^2</th>\n",
       "      <td>0.000000</td>\n",
       "    </tr>\n",
       "    <tr>\n",
       "      <th>radio newspaper</th>\n",
       "      <td>0.124533</td>\n",
       "    </tr>\n",
       "    <tr>\n",
       "      <th>newspaper^2</th>\n",
       "      <td>0.000000</td>\n",
       "    </tr>\n",
       "  </tbody>\n",
       "</table>\n",
       "</div>"
      ],
      "text/plain": [
       "                 Coefficients\n",
       "TV                   4.040799\n",
       "radio                0.235684\n",
       "newspaper            0.111224\n",
       "TV^2                -2.553680\n",
       "TV radio             3.750461\n",
       "TV newspaper        -0.150838\n",
       "radio^2              0.000000\n",
       "radio newspaper      0.124533\n",
       "newspaper^2          0.000000"
      ]
     },
     "metadata": {},
     "output_type": "display_data"
    }
   ],
   "source": [
    "# Lasso Lars (Least Angle Regression)\n",
    "\n",
    "from sklearn.linear_model import LassoLarsCV\n",
    "\n",
    "lassolars_model = LassoLarsCV()\n",
    "lassolars_model.fit(X_train,y_train)\n",
    "print('alpha = {:.4f}'.format(lassolars_model.alpha_))\n",
    "\n",
    "y_pred = lassolars_model.predict(X_test)  # X_test becomes 'holdout' over here\n",
    "print('RMSE = {:.2f}'.format(np.sqrt(mean_squared_error(y_test, y_pred))))\n",
    "\n",
    "# Some Coefficients are Zero\n",
    "print('Intercept = {:.2f}'.format(lassolars_model.intercept_))\n",
    "coeff = pd.DataFrame(data=lassolars_model.coef_.reshape(-1,1), \n",
    "                     index=Poly_convert.get_feature_names(X.columns),\n",
    "                     columns=['Coefficients'])\n",
    "display(coeff)"
   ]
  },
  {
   "cell_type": "markdown",
   "metadata": {},
   "source": [
    "#### Elastic Net - two hyperparameters: (a) mix between L1 & L2, and (b) alpha, i.e. amount of penalty"
   ]
  },
  {
   "cell_type": "code",
   "execution_count": 47,
   "metadata": {},
   "outputs": [
    {
     "name": "stdout",
     "output_type": "stream",
     "text": [
      "alpha = 0.0081\n",
      "l1 ratio = 1.0000\n",
      "RMSE = 0.66\n",
      "Intercept = 14.31\n"
     ]
    },
    {
     "data": {
      "text/html": [
       "<div>\n",
       "<style scoped>\n",
       "    .dataframe tbody tr th:only-of-type {\n",
       "        vertical-align: middle;\n",
       "    }\n",
       "\n",
       "    .dataframe tbody tr th {\n",
       "        vertical-align: top;\n",
       "    }\n",
       "\n",
       "    .dataframe thead th {\n",
       "        text-align: right;\n",
       "    }\n",
       "</style>\n",
       "<table border=\"1\" class=\"dataframe\">\n",
       "  <thead>\n",
       "    <tr style=\"text-align: right;\">\n",
       "      <th></th>\n",
       "      <th>Coefficients</th>\n",
       "    </tr>\n",
       "  </thead>\n",
       "  <tbody>\n",
       "    <tr>\n",
       "      <th>TV</th>\n",
       "      <td>4.086835</td>\n",
       "    </tr>\n",
       "    <tr>\n",
       "      <th>radio</th>\n",
       "      <td>0.232181</td>\n",
       "    </tr>\n",
       "    <tr>\n",
       "      <th>newspaper</th>\n",
       "      <td>0.123490</td>\n",
       "    </tr>\n",
       "    <tr>\n",
       "      <th>TV^2</th>\n",
       "      <td>-2.593047</td>\n",
       "    </tr>\n",
       "    <tr>\n",
       "      <th>TV radio</th>\n",
       "      <td>3.754221</td>\n",
       "    </tr>\n",
       "    <tr>\n",
       "      <th>TV newspaper</th>\n",
       "      <td>-0.167838</td>\n",
       "    </tr>\n",
       "    <tr>\n",
       "      <th>radio^2</th>\n",
       "      <td>0.000000</td>\n",
       "    </tr>\n",
       "    <tr>\n",
       "      <th>radio newspaper</th>\n",
       "      <td>0.127180</td>\n",
       "    </tr>\n",
       "    <tr>\n",
       "      <th>newspaper^2</th>\n",
       "      <td>-0.000000</td>\n",
       "    </tr>\n",
       "  </tbody>\n",
       "</table>\n",
       "</div>"
      ],
      "text/plain": [
       "                 Coefficients\n",
       "TV                   4.086835\n",
       "radio                0.232181\n",
       "newspaper            0.123490\n",
       "TV^2                -2.593047\n",
       "TV radio             3.754221\n",
       "TV newspaper        -0.167838\n",
       "radio^2              0.000000\n",
       "radio newspaper      0.127180\n",
       "newspaper^2         -0.000000"
      ]
     },
     "metadata": {},
     "output_type": "display_data"
    }
   ],
   "source": [
    "elastic_cv_model = ElasticNetCV(l1_ratio=[.01, .1, .5, .7, .9, .95, .99, 1], eps=0.001, n_alphas=100)\n",
    "elastic_cv_model.fit(X_train, y_train)                                        # Returns fitted model with best parameters\n",
    "\n",
    "print('alpha = {:.4f}'.format(elastic_cv_model.alpha_))\n",
    "print('l1 ratio = {:.4f}'.format(elastic_cv_model.l1_ratio_))                 # Ratio =1, i.e. Lasso\n",
    "\n",
    "y_pred = elastic_cv_model.predict(X_test)                                     # X_test becomes 'holdout' over here\n",
    "print('RMSE = {:.2f}'.format(np.sqrt(mean_squared_error(y_test, y_pred))))\n",
    "\n",
    "# Some Coefficients are Zero\n",
    "print('Intercept = {:.2f}'.format(elastic_cv_model.intercept_))\n",
    "coeff = pd.DataFrame(data=elastic_cv_model.coef_.reshape(-1,1), \n",
    "                     index=Poly_convert.get_feature_names(X.columns),\n",
    "                     columns=['Coefficients'])\n",
    "display(coeff)                                                                #Same o/p as Lasso Model"
   ]
  },
  {
   "cell_type": "markdown",
   "metadata": {},
   "source": [
    " "
   ]
  },
  {
   "cell_type": "markdown",
   "metadata": {},
   "source": [
    "#### Generic Functions: GridSearchCV and cross_validate"
   ]
  },
  {
   "cell_type": "code",
   "execution_count": 48,
   "metadata": {},
   "outputs": [],
   "source": [
    "# Cross_val_score & Cross_validate allow us to calculate Scores by running k-fold CV.. \n",
    "# DOESN'T TUNE A PARAMETER\n",
    "# Model needs to be fitted again afterwards\n",
    "\n",
    "from sklearn.model_selection import cross_val_score     # can accomodate one metrics\n",
    "from sklearn.model_selection import cross_validate      # can accomodate multiple metrics"
   ]
  },
  {
   "cell_type": "code",
   "execution_count": 49,
   "metadata": {},
   "outputs": [
    {
     "name": "stdout",
     "output_type": "stream",
     "text": [
      "fit_time                            0.002191\n",
      "score_time                          0.001504\n",
      "test_neg_root_mean_squared_error   -0.621241\n",
      "test_neg_mean_squared_error        -0.507687\n",
      "dtype: float64\n"
     ]
    },
    {
     "data": {
      "text/html": [
       "<div>\n",
       "<style scoped>\n",
       "    .dataframe tbody tr th:only-of-type {\n",
       "        vertical-align: middle;\n",
       "    }\n",
       "\n",
       "    .dataframe tbody tr th {\n",
       "        vertical-align: top;\n",
       "    }\n",
       "\n",
       "    .dataframe thead th {\n",
       "        text-align: right;\n",
       "    }\n",
       "</style>\n",
       "<table border=\"1\" class=\"dataframe\">\n",
       "  <thead>\n",
       "    <tr style=\"text-align: right;\">\n",
       "      <th></th>\n",
       "      <th>fit_time</th>\n",
       "      <th>score_time</th>\n",
       "      <th>test_neg_root_mean_squared_error</th>\n",
       "      <th>test_neg_mean_squared_error</th>\n",
       "    </tr>\n",
       "  </thead>\n",
       "  <tbody>\n",
       "    <tr>\n",
       "      <th>0</th>\n",
       "      <td>0.003987</td>\n",
       "      <td>0.001995</td>\n",
       "      <td>-0.515583</td>\n",
       "      <td>-0.265825</td>\n",
       "    </tr>\n",
       "    <tr>\n",
       "      <th>1</th>\n",
       "      <td>0.003990</td>\n",
       "      <td>0.002046</td>\n",
       "      <td>-0.598193</td>\n",
       "      <td>-0.357834</td>\n",
       "    </tr>\n",
       "    <tr>\n",
       "      <th>2</th>\n",
       "      <td>0.002996</td>\n",
       "      <td>0.001994</td>\n",
       "      <td>-0.438816</td>\n",
       "      <td>-0.192560</td>\n",
       "    </tr>\n",
       "    <tr>\n",
       "      <th>3</th>\n",
       "      <td>0.002995</td>\n",
       "      <td>0.003994</td>\n",
       "      <td>-0.603155</td>\n",
       "      <td>-0.363796</td>\n",
       "    </tr>\n",
       "    <tr>\n",
       "      <th>4</th>\n",
       "      <td>0.004027</td>\n",
       "      <td>0.001988</td>\n",
       "      <td>-0.392131</td>\n",
       "      <td>-0.153767</td>\n",
       "    </tr>\n",
       "    <tr>\n",
       "      <th>5</th>\n",
       "      <td>0.000951</td>\n",
       "      <td>0.001029</td>\n",
       "      <td>-1.629415</td>\n",
       "      <td>-2.654993</td>\n",
       "    </tr>\n",
       "    <tr>\n",
       "      <th>6</th>\n",
       "      <td>0.000967</td>\n",
       "      <td>0.000000</td>\n",
       "      <td>-0.393978</td>\n",
       "      <td>-0.155218</td>\n",
       "    </tr>\n",
       "    <tr>\n",
       "      <th>7</th>\n",
       "      <td>0.000997</td>\n",
       "      <td>0.000998</td>\n",
       "      <td>-0.626634</td>\n",
       "      <td>-0.392670</td>\n",
       "    </tr>\n",
       "    <tr>\n",
       "      <th>8</th>\n",
       "      <td>0.000000</td>\n",
       "      <td>0.000997</td>\n",
       "      <td>-0.620377</td>\n",
       "      <td>-0.384868</td>\n",
       "    </tr>\n",
       "    <tr>\n",
       "      <th>9</th>\n",
       "      <td>0.000997</td>\n",
       "      <td>0.000000</td>\n",
       "      <td>-0.394127</td>\n",
       "      <td>-0.155336</td>\n",
       "    </tr>\n",
       "  </tbody>\n",
       "</table>\n",
       "</div>"
      ],
      "text/plain": [
       "   fit_time  score_time  test_neg_root_mean_squared_error  \\\n",
       "0  0.003987    0.001995                         -0.515583   \n",
       "1  0.003990    0.002046                         -0.598193   \n",
       "2  0.002996    0.001994                         -0.438816   \n",
       "3  0.002995    0.003994                         -0.603155   \n",
       "4  0.004027    0.001988                         -0.392131   \n",
       "5  0.000951    0.001029                         -1.629415   \n",
       "6  0.000967    0.000000                         -0.393978   \n",
       "7  0.000997    0.000998                         -0.626634   \n",
       "8  0.000000    0.000997                         -0.620377   \n",
       "9  0.000997    0.000000                         -0.394127   \n",
       "\n",
       "   test_neg_mean_squared_error  \n",
       "0                    -0.265825  \n",
       "1                    -0.357834  \n",
       "2                    -0.192560  \n",
       "3                    -0.363796  \n",
       "4                    -0.153767  \n",
       "5                    -2.654993  \n",
       "6                    -0.155218  \n",
       "7                    -0.392670  \n",
       "8                    -0.384868  \n",
       "9                    -0.155336  "
      ]
     },
     "execution_count": 49,
     "metadata": {},
     "output_type": "execute_result"
    }
   ],
   "source": [
    "# Cross_validate allows us to run CV and measure scores\n",
    "model = Ridge(alpha=1)\n",
    "scores = cross_validate(model, X_train, y_train,\n",
    "                        cv=10,\n",
    "                        scoring =['neg_root_mean_squared_error', 'neg_mean_squared_error'])\n",
    "\n",
    "scores = pd.DataFrame(scores)\n",
    "print(scores.mean())\n",
    "scores"
   ]
  },
  {
   "cell_type": "code",
   "execution_count": 50,
   "metadata": {},
   "outputs": [],
   "source": [
    "from sklearn.model_selection import GridSearchCV"
   ]
  },
  {
   "cell_type": "code",
   "execution_count": 51,
   "metadata": {},
   "outputs": [],
   "source": [
    "base_model = ElasticNet()      # no need to define parameters here\n",
    "\n",
    "def gs_run(base_model, grid):\n",
    "    grid_model = GridSearchCV(base_model, param_grid=grid, cv=10, scoring='neg_root_mean_squared_error')\n",
    "    \n",
    "    grid_model.fit(X_train, y_train)\n",
    "    \n",
    "    print(grid_model.best_estimator_)\n",
    "    print(grid_model.best_score_)\n",
    "    \n",
    "    return pd.DataFrame(grid_model.cv_results_)"
   ]
  },
  {
   "cell_type": "code",
   "execution_count": 52,
   "metadata": {},
   "outputs": [
    {
     "name": "stdout",
     "output_type": "stream",
     "text": [
      "ElasticNet(alpha=0.1, l1_ratio=0.8)\n",
      "-0.9226150775139814\n"
     ]
    }
   ],
   "source": [
    "grid = {'alpha':np.linspace(0.1, 10, 100),\n",
    "        'l1_ratio':np.linspace(0.1, 1, 10)}\n",
    "\n",
    "res = gs_run(base_model, grid)"
   ]
  },
  {
   "cell_type": "code",
   "execution_count": 53,
   "metadata": {},
   "outputs": [
    {
     "name": "stdout",
     "output_type": "stream",
     "text": [
      "ElasticNet(alpha=0.00703030303030303, l1_ratio=1.0)\n",
      "-0.6001386417790594\n"
     ]
    }
   ],
   "source": [
    "grid2 = {'alpha':np.linspace(0.001, 0.2, 100),\n",
    "         'l1_ratio':np.linspace(0.7, 1, 10)}\n",
    "\n",
    "res = gs_run(base_model, grid2)"
   ]
  },
  {
   "cell_type": "code",
   "execution_count": 54,
   "metadata": {},
   "outputs": [
    {
     "name": "stdout",
     "output_type": "stream",
     "text": [
      "ElasticNet(alpha=0.008151515151515151, l1_ratio=1.0)\n",
      "-0.599935941813613\n"
     ]
    }
   ],
   "source": [
    "grid3 = {'alpha':np.linspace(0.005, 0.009, 100),\n",
    "         'l1_ratio':np.linspace(0.9, 1, 4)}\n",
    "\n",
    "res = gs_run(base_model, grid3)"
   ]
  },
  {
   "cell_type": "code",
   "execution_count": 55,
   "metadata": {},
   "outputs": [
    {
     "name": "stdout",
     "output_type": "stream",
     "text": [
      "ElasticNet(alpha=0.008142105263157895, l1_ratio=1)\n",
      "-0.5999359828675971\n"
     ]
    }
   ],
   "source": [
    "grid4 = {'alpha':np.linspace(0.008, 0.0089, 20),\n",
    "         'l1_ratio':[1]}\n",
    "\n",
    "res = gs_run(base_model, grid4)"
   ]
  },
  {
   "cell_type": "code",
   "execution_count": 61,
   "metadata": {},
   "outputs": [
    {
     "data": {
      "text/plain": [
       "GridSearchCV(cv=10, estimator=ElasticNet(),\n",
       "             param_grid={'alpha': array([0.008     , 0.00804737, 0.00809474, 0.00814211, 0.00818947,\n",
       "       0.00823684, 0.00828421, 0.00833158, 0.00837895, 0.00842632,\n",
       "       0.00847368, 0.00852105, 0.00856842, 0.00861579, 0.00866316,\n",
       "       0.00871053, 0.00875789, 0.00880526, 0.00885263, 0.0089    ]),\n",
       "                         'l1_ratio': [1]},\n",
       "             scoring='neg_root_mean_squared_error')"
      ]
     },
     "execution_count": 61,
     "metadata": {},
     "output_type": "execute_result"
    }
   ],
   "source": [
    "grid_model = GridSearchCV(base_model, param_grid=grid4, cv=10, scoring='neg_root_mean_squared_error')\n",
    "grid_model.fit(X_train, y_train)"
   ]
  },
  {
   "cell_type": "code",
   "execution_count": 66,
   "metadata": {},
   "outputs": [
    {
     "data": {
      "text/plain": [
       "{'mean_fit_time': array([0.00118937, 0.00079806, 0.00069809, 0.00159204, 0.00098972,\n",
       "        0.00089679, 0.00070007, 0.00059831, 0.00059621, 0.00010009,\n",
       "        0.00060077, 0.00089555, 0.00019946, 0.00099676, 0.00069802,\n",
       "        0.00022435, 0.0015173 , 0.00069685, 0.00100312, 0.0004951 ]),\n",
       " 'std_fit_time': array([1.24151321e-03, 3.99306893e-04, 4.57007223e-04, 9.08343392e-04,\n",
       "        6.31658777e-04, 5.42864500e-04, 4.58386180e-04, 4.88523407e-04,\n",
       "        4.86948467e-04, 3.00264359e-04, 4.90607042e-04, 2.98608906e-04,\n",
       "        3.98923691e-04, 1.50245517e-05, 4.56986215e-04, 4.51183070e-04,\n",
       "        1.03900818e-03, 4.56452040e-04, 1.05978064e-05, 4.95194829e-04]),\n",
       " 'mean_score_time': array([5.95855713e-04, 2.99119949e-04, 2.99215317e-04, 6.09350204e-04,\n",
       "        4.97102737e-04, 2.02751160e-04, 2.99453735e-04, 3.03006172e-04,\n",
       "        9.92536545e-05, 5.98406792e-04, 4.99153137e-04, 2.01416016e-04,\n",
       "        0.00000000e+00, 0.00000000e+00, 3.99017334e-04, 9.52005386e-05,\n",
       "        7.05480576e-04, 4.01782990e-04, 9.78708267e-05, 6.02412224e-04]),\n",
       " 'std_score_time': array([0.00065977, 0.00045691, 0.00045706, 0.0006747 , 0.00048965,\n",
       "        0.00040558, 0.00045745, 0.00046295, 0.00029776, 0.0004886 ,\n",
       "        0.00049931, 0.00040285, 0.        , 0.        , 0.00048884,\n",
       "        0.0002856 , 0.00046207, 0.00049217, 0.00029361, 0.00049206]),\n",
       " 'param_alpha': masked_array(data=[0.008, 0.008047368421052631, 0.008094736842105264,\n",
       "                    0.008142105263157895, 0.008189473684210526,\n",
       "                    0.008236842105263159, 0.00828421052631579,\n",
       "                    0.00833157894736842, 0.008378947368421054,\n",
       "                    0.008426315789473685, 0.008473684210526316,\n",
       "                    0.008521052631578947, 0.00856842105263158,\n",
       "                    0.00861578947368421, 0.008663157894736841,\n",
       "                    0.008710526315789474, 0.008757894736842105,\n",
       "                    0.008805263157894736, 0.008852631578947369, 0.0089],\n",
       "              mask=[False, False, False, False, False, False, False, False,\n",
       "                    False, False, False, False, False, False, False, False,\n",
       "                    False, False, False, False],\n",
       "        fill_value='?',\n",
       "             dtype=object),\n",
       " 'param_l1_ratio': masked_array(data=[1, 1, 1, 1, 1, 1, 1, 1, 1, 1, 1, 1, 1, 1, 1, 1, 1, 1,\n",
       "                    1, 1],\n",
       "              mask=[False, False, False, False, False, False, False, False,\n",
       "                    False, False, False, False, False, False, False, False,\n",
       "                    False, False, False, False],\n",
       "        fill_value='?',\n",
       "             dtype=object),\n",
       " 'params': [{'alpha': 0.008, 'l1_ratio': 1},\n",
       "  {'alpha': 0.008047368421052631, 'l1_ratio': 1},\n",
       "  {'alpha': 0.008094736842105264, 'l1_ratio': 1},\n",
       "  {'alpha': 0.008142105263157895, 'l1_ratio': 1},\n",
       "  {'alpha': 0.008189473684210526, 'l1_ratio': 1},\n",
       "  {'alpha': 0.008236842105263159, 'l1_ratio': 1},\n",
       "  {'alpha': 0.00828421052631579, 'l1_ratio': 1},\n",
       "  {'alpha': 0.00833157894736842, 'l1_ratio': 1},\n",
       "  {'alpha': 0.008378947368421054, 'l1_ratio': 1},\n",
       "  {'alpha': 0.008426315789473685, 'l1_ratio': 1},\n",
       "  {'alpha': 0.008473684210526316, 'l1_ratio': 1},\n",
       "  {'alpha': 0.008521052631578947, 'l1_ratio': 1},\n",
       "  {'alpha': 0.00856842105263158, 'l1_ratio': 1},\n",
       "  {'alpha': 0.00861578947368421, 'l1_ratio': 1},\n",
       "  {'alpha': 0.008663157894736841, 'l1_ratio': 1},\n",
       "  {'alpha': 0.008710526315789474, 'l1_ratio': 1},\n",
       "  {'alpha': 0.008757894736842105, 'l1_ratio': 1},\n",
       "  {'alpha': 0.008805263157894736, 'l1_ratio': 1},\n",
       "  {'alpha': 0.008852631578947369, 'l1_ratio': 1},\n",
       "  {'alpha': 0.0089, 'l1_ratio': 1}],\n",
       " 'split0_test_score': array([-0.52027078, -0.52016609, -0.52005923, -0.51995064, -0.51984236,\n",
       "        -0.51973439, -0.51962675, -0.51951943, -0.51941242, -0.51926759,\n",
       "        -0.51916144, -0.5190556 , -0.51895228, -0.51885138, -0.51874625,\n",
       "        -0.51864142, -0.51853691, -0.51843274, -0.51832889, -0.51822534]),\n",
       " 'split1_test_score': array([-0.51358627, -0.51371382, -0.51383987, -0.51396794, -0.51409622,\n",
       "        -0.51422466, -0.51435325, -0.51448199, -0.51461091, -0.51474   ,\n",
       "        -0.51486925, -0.51499867, -0.51517055, -0.51530017, -0.51542992,\n",
       "        -0.51555984, -0.51568993, -0.51581868, -0.51595108, -0.51608256]),\n",
       " 'split2_test_score': array([-0.42257959, -0.42260164, -0.4226002 , -0.42259909, -0.42259828,\n",
       "        -0.4225978 , -0.42259791, -0.42259836, -0.42259983, -0.42260184,\n",
       "        -0.42260415, -0.42260677, -0.42260969, -0.42261276, -0.42261611,\n",
       "        -0.42261965, -0.42262323, -0.42262713, -0.42263134, -0.42263589]),\n",
       " 'split3_test_score': array([-0.58803158, -0.58790793, -0.58778656, -0.58766685, -0.5875819 ,\n",
       "        -0.5876725 , -0.58769671, -0.58774884, -0.58777392, -0.5878005 ,\n",
       "        -0.5878274 , -0.58788524, -0.5879138 , -0.58794327, -0.58797363,\n",
       "        -0.58800484, -0.58803686, -0.58810123, -0.58813463, -0.5881688 ]),\n",
       " 'split4_test_score': array([-0.48703474, -0.48671792, -0.48640124, -0.48608468, -0.48576823,\n",
       "        -0.48545194, -0.48513606, -0.48482041, -0.48450489, -0.4841558 ,\n",
       "        -0.48384026, -0.48352488, -0.48320964, -0.48289455, -0.48257956,\n",
       "        -0.48226471, -0.48195002, -0.48163548, -0.48132109, -0.48100681]),\n",
       " 'split5_test_score': array([-1.50177347, -1.50199169, -1.50221004, -1.50242842, -1.5026469 ,\n",
       "        -1.50292259, -1.50314123, -1.50335989, -1.50357865, -1.50379752,\n",
       "        -1.50401556, -1.50423236, -1.5044493 , -1.50466634, -1.50488349,\n",
       "        -1.50510068, -1.50531796, -1.50553714, -1.50575685, -1.50603627]),\n",
       " 'split6_test_score': array([-0.42257418, -0.4225239 , -0.42247372, -0.42242385, -0.42237429,\n",
       "        -0.42232505, -0.42227614, -0.42222754, -0.42217926, -0.42213128,\n",
       "        -0.42208362, -0.42203613, -0.42198887, -0.42194193, -0.4218953 ,\n",
       "        -0.42185616, -0.42181232, -0.42176878, -0.42172553, -0.42168265]),\n",
       " 'split7_test_score': array([-0.52969455, -0.53009704, -0.53049847, -0.53089883, -0.53129964,\n",
       "        -0.53170084, -0.53210542, -0.5325107 , -0.53291639, -0.53332246,\n",
       "        -0.53372895, -0.53413595, -0.53466178, -0.53506927, -0.5354772 ,\n",
       "        -0.53588556, -0.5362943 , -0.53670343, -0.53711298, -0.53752187]),\n",
       " 'split8_test_score': array([-0.66970484, -0.66934206, -0.66897942, -0.66861692, -0.66825455,\n",
       "        -0.6678923 , -0.66753016, -0.66716815, -0.66680573, -0.66644322,\n",
       "        -0.66608071, -0.665718  , -0.66535545, -0.66499304, -0.66463075,\n",
       "        -0.66426858, -0.66390654, -0.66354455, -0.66318266, -0.66282136]),\n",
       " 'split9_test_score': array([-0.34420218, -0.3443748 , -0.34454854, -0.34472261, -0.34489755,\n",
       "        -0.34507356, -0.34525067, -0.34542946, -0.34563755, -0.34581917,\n",
       "        -0.34600184, -0.3461856 , -0.34637047, -0.34655642, -0.34674345,\n",
       "        -0.34693157, -0.34715177, -0.34734215, -0.34753361, -0.34772615]),\n",
       " 'mean_test_score': array([-0.59994522, -0.59994369, -0.59993973, -0.59993598, -0.59993599,\n",
       "        -0.59995956, -0.59997143, -0.59998648, -0.60000195, -0.60000794,\n",
       "        -0.60002132, -0.60003792, -0.60006818, -0.60008291, -0.60009757,\n",
       "        -0.6001133 , -0.60013199, -0.60015113, -0.60016787, -0.60019077]),\n",
       " 'std_test_score': array([0.31274845, 0.31279286, 0.31283881, 0.31288487, 0.31293085,\n",
       "        0.31299264, 0.31303816, 0.31308352, 0.31312667, 0.31317432,\n",
       "        0.31321951, 0.31326423, 0.31330543, 0.31335028, 0.31339528,\n",
       "        0.3134399 , 0.31348235, 0.31352777, 0.31357337, 0.31363629]),\n",
       " 'rank_test_score': array([ 5,  4,  3,  1,  2,  6,  7,  8,  9, 10, 11, 12, 13, 14, 15, 16, 17,\n",
       "        18, 19, 20])}"
      ]
     },
     "execution_count": 66,
     "metadata": {},
     "output_type": "execute_result"
    }
   ],
   "source": [
    "grid_model.cv_results_"
   ]
  },
  {
   "cell_type": "code",
   "execution_count": 62,
   "metadata": {},
   "outputs": [
    {
     "data": {
      "text/plain": [
       "array([13.87590131, 19.35538713, 12.24395295, 16.64924959,  8.10344222,\n",
       "        7.06225385, 20.15659105, 17.47263648, 10.53397053, 20.08155998,\n",
       "        9.58048056, 14.08320117, 12.03399185, 23.30331999, 19.6319752 ,\n",
       "        9.23305278, 12.15171759,  9.29365151,  8.50785484, 21.61339874,\n",
       "        7.20140507, 19.26539959, 27.2915701 , 24.61567027,  9.13138352,\n",
       "       11.75346448, 20.50964961,  9.15600219, 12.69445466,  8.61476599,\n",
       "        8.63700055, 20.1584185 , 10.90859387,  6.87543911, 18.19640892,\n",
       "        9.41484721, 10.31632671,  9.68316523,  7.49018558, 10.99713587,\n",
       "       12.58568741, 10.57835538, 11.14380763,  7.48229232, 11.39224319,\n",
       "       10.30796022,  6.39715456, 15.50061179, 13.29481264, 22.62386123,\n",
       "       10.39109601, 13.17200862, 14.30804126, 11.88266455, 11.63444052,\n",
       "        5.86770471, 25.04611315,  9.69724067, 17.42472898, 15.68356298])"
      ]
     },
     "execution_count": 62,
     "metadata": {},
     "output_type": "execute_result"
    }
   ],
   "source": [
    "grid_model.predict(X_test)"
   ]
  },
  {
   "cell_type": "code",
   "execution_count": 63,
   "metadata": {},
   "outputs": [
    {
     "data": {
      "text/plain": [
       "0.6575132290260559"
      ]
     },
     "execution_count": 63,
     "metadata": {},
     "output_type": "execute_result"
    }
   ],
   "source": [
    "np.sqrt(mean_squared_error(y_test, grid_model.predict(X_test)))"
   ]
  },
  {
   "cell_type": "code",
   "execution_count": null,
   "metadata": {},
   "outputs": [],
   "source": []
  },
  {
   "cell_type": "markdown",
   "metadata": {},
   "source": [
    "The end "
   ]
  }
 ],
 "metadata": {
  "kernelspec": {
   "display_name": "Python 3",
   "language": "python",
   "name": "python3"
  },
  "language_info": {
   "codemirror_mode": {
    "name": "ipython",
    "version": 3
   },
   "file_extension": ".py",
   "mimetype": "text/x-python",
   "name": "python",
   "nbconvert_exporter": "python",
   "pygments_lexer": "ipython3",
   "version": "3.8.5"
  }
 },
 "nbformat": 4,
 "nbformat_minor": 4
}

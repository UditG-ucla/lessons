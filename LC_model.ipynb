{
 "cells": [
  {
   "cell_type": "code",
   "execution_count": 1,
   "metadata": {},
   "outputs": [],
   "source": [
    "# Feature selection from previous analysis\n",
    "cols = ['grade', 'int_rate', 'fico', 'bc_open_to_buy', 'acc_open_past_24mths', \n",
    "        'verification_status', 'term', 'total_bc_limit', 'num_tl_op_past_12m',\n",
    "        'total_rev_hi_lim', 'tot_hi_cred_lim', 'mo_sin_rcnt_rev_tl_op', 'mo_sin_rcnt_tl',\n",
    "        'avg_cur_bal', 'percent_bc_gt_75', 'bc_util', 'mths_since_recent_bc', 'annual_inc',\n",
    "        'inq_last_6mths', 'dti', 'tot_cur_bal', 'revol_util', 'home_ownership', 'num_actv_rev_tl',\n",
    "        'purpose', 'mo_sin_old_rev_tl_op', 'mort_acc']\n",
    "cols += ['issue_d', 'credit_event']"
   ]
  },
  {
   "cell_type": "code",
   "execution_count": 2,
   "metadata": {},
   "outputs": [],
   "source": [
    "# Importing Libraries\n",
    "import os\n",
    "import pandas as pd\n",
    "import numpy as np\n",
    "import scipy.stats as stats\n",
    "import seaborn as sns\n",
    "import matplotlib.pyplot as plt\n",
    "from datetime import datetime\n",
    "\n",
    "\n",
    "# Modeling\n",
    "from sklearn.model_selection import train_test_split\n",
    "from sklearn.linear_model import LogisticRegression\n",
    "from sklearn.preprocessing import StandardScaler\n",
    "from sklearn.model_selection import cross_val_score\n",
    "from sklearn.metrics import confusion_matrix\n",
    "from sklearn.metrics import roc_auc_score\n",
    "from sklearn.metrics import roc_curve\n",
    "from sklearn.metrics import precision_recall_curve\n",
    "\n",
    "# Display Settings \n",
    "display = pd.options.display\n",
    "display.max_columns = 100\n",
    "display.max_rows = 100\n",
    "display.max_colwidth = 199\n",
    "display.width = 1000"
   ]
  },
  {
   "cell_type": "code",
   "execution_count": 3,
   "metadata": {},
   "outputs": [
    {
     "name": "stdout",
     "output_type": "stream",
     "text": [
      "(2925493, 142)\n"
     ]
    }
   ],
   "source": [
    "# Working Directory & Data files\n",
    "wdir = os.getcwd()\n",
    "data_file_name = '\\Loan_status_2007-2020Q3.gzip'\n",
    "\n",
    "# Read Loan level data\n",
    "loan_data = pd.read_csv(wdir+data_file_name, low_memory=False, index_col=False)\n",
    "print(loan_data.shape) #(2925493, 142)"
   ]
  },
  {
   "cell_type": "code",
   "execution_count": 4,
   "metadata": {},
   "outputs": [
    {
     "name": "stdout",
     "output_type": "stream",
     "text": [
      "Fully Paid                                             1497783\n",
      "Current                                                1031016\n",
      "Charged Off                                             362548\n",
      "Late (31-120 days)                                       16154\n",
      "In Grace Period                                          10028\n",
      "Late (16-30 days)                                         2719\n",
      "Issued                                                    2062\n",
      "Does not meet the credit policy. Status:Fully Paid        1962\n",
      "Does not meet the credit policy. Status:Charged Off        758\n",
      "Default                                                    433\n",
      "Name: loan_status, dtype: int64\n",
      "Fully Paid            1497783\n",
      "Current               1031016\n",
      "Charged Off            362548\n",
      "Late (31-120 days)      16154\n",
      "In Grace Period         10028\n",
      "Late (16-30 days)        2719\n",
      "Default                   433\n",
      "Name: loan_status, dtype: int64\n",
      "Credit event distribution: \n",
      "0    2541546\n",
      "1     379135\n",
      "Name: credit_event, dtype: int64\n"
     ]
    }
   ],
   "source": [
    "# Cleaning data:\n",
    "\n",
    "# Removing rows with missing issue_date or earliest_credit_line - 29 rows\n",
    "loan_data = loan_data[~loan_data[['issue_d','earliest_cr_line']].isna().any(axis=1)]\n",
    "\n",
    "\n",
    "# Formatting certain fields\n",
    "loan_data.loc[loan_data['home_ownership'].isin(['ANY','OTHER','NONE']), 'home_ownership'] = 'MORTGAGE'\n",
    "\n",
    "loan_data['issue_d']  = loan_data['issue_d'].apply(lambda x: datetime.strptime(x, \"%b-%Y\"))\n",
    "loan_data['earliest_cr_line'] = loan_data['earliest_cr_line'].apply(lambda x: datetime.strptime(x, \"%b-%Y\"))\n",
    "loan_data['credit_hist'] = loan_data['issue_d'].dt.to_period('M') - loan_data['earliest_cr_line'].dt.to_period('M')\n",
    "loan_data['credit_hist'] = loan_data['credit_hist'].apply(lambda x: x.n)\n",
    "\n",
    "loan_data['int_rate'] = loan_data['int_rate'].str[:-1].astype(float)  #Strip off the %sign\n",
    "loan_data['revol_util'] = loan_data['revol_util'].str[:-1].astype(float)  #Strip off the %sign\n",
    "\n",
    "loan_data['fico'] = 0.5*(loan_data['fico_range_low'] + loan_data['fico_range_high'])\n",
    "\n",
    "# Encoding 'loan_status'\n",
    "print(loan_data['loan_status'].value_counts())\n",
    "keep_status = ['Fully Paid', 'Charged Off','Current','Default',\n",
    "               'Late (31-120 days)', 'In Grace Period', 'Late (16-30 days)',\n",
    "               #'Does not meet the credit policy. Status:Fully Paid',\n",
    "               #'Does not meet the credit policy. Status:Charged Off', \n",
    "               #'Issued',\n",
    "               ]\n",
    "loan_data = loan_data[loan_data['loan_status'].isin(keep_status)]\n",
    "\n",
    "# Create a Binary Credit_Event flag\n",
    "credit_event_status = ['Charged Off','Default','Late (31-120 days)']\n",
    "loan_data['credit_event'] = 0\n",
    "loan_data.loc[loan_data['loan_status'].isin(credit_event_status), 'credit_event'] = 1\n",
    "\n",
    "print(loan_data['loan_status'].value_counts())\n",
    "print(f\"Credit event distribution: \\n{loan_data['credit_event'].value_counts()}\")"
   ]
  },
  {
   "cell_type": "code",
   "execution_count": 5,
   "metadata": {},
   "outputs": [
    {
     "name": "stdout",
     "output_type": "stream",
     "text": [
      "(2920681, 29)\n"
     ]
    }
   ],
   "source": [
    "# Curtail Dataset to shortlisted fields\n",
    "loan_data = loan_data[cols]\n",
    "print(loan_data.shape) #(2920681, 29)"
   ]
  },
  {
   "cell_type": "code",
   "execution_count": 6,
   "metadata": {},
   "outputs": [
    {
     "name": "stdout",
     "output_type": "stream",
     "text": [
      "Index(['acc_open_past_24mths', 'annual_inc', 'avg_cur_bal', 'bc_open_to_buy', 'bc_util', 'credit_event', 'dti', 'fico', 'grade', 'home_ownership', 'inq_last_6mths', 'int_rate', 'issue_d', 'mo_sin_old_rev_tl_op', 'mo_sin_rcnt_rev_tl_op', 'mo_sin_rcnt_tl', 'mort_acc', 'mths_since_recent_bc', 'num_actv_rev_tl', 'num_tl_op_past_12m', 'percent_bc_gt_75', 'purpose', 'revol_util', 'term', 'tot_cur_bal', 'tot_hi_cred_lim', 'total_bc_limit', 'total_rev_hi_lim', 'verification_status'], dtype='object')\n"
     ]
    }
   ],
   "source": [
    "# Rearrange columns alphabetically; column name formatting is okay\n",
    "\n",
    "loan_data = loan_data[loan_data.columns.sort_values()]\n",
    "print(loan_data.columns)"
   ]
  },
  {
   "cell_type": "code",
   "execution_count": 7,
   "metadata": {},
   "outputs": [
    {
     "name": "stdout",
     "output_type": "stream",
     "text": [
      "0.03589779232993949\n",
      "(2815835, 29)\n"
     ]
    }
   ],
   "source": [
    "print(loan_data.isna().any(axis=1).mean()) #0.035\n",
    "\n",
    "# Drop missing values\n",
    "\n",
    "loan_data = loan_data[~loan_data.isna().any(axis=1)]\n",
    "print(loan_data.shape) #(2815835, 29)"
   ]
  },
  {
   "cell_type": "code",
   "execution_count": 8,
   "metadata": {},
   "outputs": [
    {
     "data": {
      "text/plain": [
       "(array(['B', 'A', 'C', 'D', 'E', 'F', 'G'], dtype=object),\n",
       " array(['RENT', 'MORTGAGE', 'OWN'], dtype=object),\n",
       " array(['debt_consolidation', 'home_improvement', 'other', 'credit_card',\n",
       "        'major_purchase', 'small_business', 'house', 'moving', 'medical',\n",
       "        'car', 'vacation', 'renewable_energy', 'wedding', 'educational'],\n",
       "       dtype=object),\n",
       " array([' 36 months', ' 60 months'], dtype=object),\n",
       " array(['Not Verified', 'Source Verified', 'Verified'], dtype=object))"
      ]
     },
     "execution_count": 8,
     "metadata": {},
     "output_type": "execute_result"
    }
   ],
   "source": [
    "# Identifying Categorical Features\n",
    "cat_features = loan_data.columns[loan_data.dtypes == object].to_list()\n",
    "cat_features #['grade', 'home_ownership', 'purpose', 'term', 'verification_status']\n",
    "loan_data['grade'].unique(), loan_data['home_ownership'].unique(), loan_data['purpose'].unique(),\\\n",
    "loan_data['term'].unique(), loan_data['verification_status'].unique()"
   ]
  },
  {
   "cell_type": "code",
   "execution_count": 9,
   "metadata": {},
   "outputs": [
    {
     "name": "stdout",
     "output_type": "stream",
     "text": [
      "(2815835, 53)\n",
      "(2815835, 48)\n"
     ]
    }
   ],
   "source": [
    "# Creating Dummy variables\n",
    "for col in cat_features:\n",
    "    df_dummy = pd.get_dummies(loan_data[col], prefix=col, prefix_sep='_', drop_first=True)\n",
    "    loan_data = pd.concat([loan_data, df_dummy], axis=1)\n",
    "\n",
    "print(loan_data.shape) #(2815835, 53)\n",
    "loan_data.drop(columns=cat_features, inplace=True)\n",
    "print(loan_data.shape) #(2815835, 48)"
   ]
  },
  {
   "cell_type": "code",
   "execution_count": 10,
   "metadata": {},
   "outputs": [
    {
     "name": "stderr",
     "output_type": "stream",
     "text": [
      "C:\\Users\\uditg\\anaconda3\\lib\\site-packages\\pandas\\core\\frame.py:4163: SettingWithCopyWarning: \n",
      "A value is trying to be set on a copy of a slice from a DataFrame\n",
      "\n",
      "See the caveats in the documentation: https://pandas.pydata.org/pandas-docs/stable/user_guide/indexing.html#returning-a-view-versus-a-copy\n",
      "  return super().drop(\n"
     ]
    }
   ],
   "source": [
    "# Separating Data into Train, Test and Validation (out-of-sample)\n",
    "# Reference https://machinelearningmastery.com/difference-test-validation-datasets/\n",
    "\n",
    "cutoff_date = '2019-09-01'\n",
    "loan_data_val = loan_data[loan_data['issue_d'] >  cutoff_date]\n",
    "loan_data_dev = loan_data[loan_data['issue_d'] <= cutoff_date]\n",
    "loan_data_train, loan_data_test = train_test_split(loan_data_dev, test_size = 0.3, random_state=693)\n",
    "\n",
    "loan_data_val.drop(columns = 'issue_d', inplace = True)\n",
    "loan_data_dev.drop(columns = 'issue_d', inplace = True)\n",
    "loan_data_train.drop(columns = 'issue_d', inplace = True)\n",
    "loan_data_test.drop(columns = 'issue_d', inplace = True)\n",
    "\n",
    "loan_data_val.reset_index(drop=True, inplace=True)\n",
    "loan_data_dev.reset_index(drop=True, inplace=True)\n",
    "loan_data_train.reset_index(drop=True, inplace=True)\n",
    "loan_data_test.reset_index(drop=True, inplace=True)\n"
   ]
  },
  {
   "cell_type": "code",
   "execution_count": 11,
   "metadata": {},
   "outputs": [
    {
     "name": "stdout",
     "output_type": "stream",
     "text": [
      "Validation data: (269280, 47), contains 9.56% of total data\n",
      "Validation data - distribution of credit events:\n",
      "0    267018\n",
      "1      2262\n",
      "Name: credit_event, dtype: int64\n",
      "Development data: (2546555, 47), contains 90.44% of total data\n",
      "Development data - distribution of credit events:\n",
      "0    2184839\n",
      "1     361716\n",
      "Name: credit_event, dtype: int64\n",
      "Train data: (1782588, 47), contains 63.31% of total data\n",
      "Train data - distribution of credit events:\n",
      "0    1529280\n",
      "1     253308\n",
      "Name: credit_event, dtype: int64\n",
      "Test data: (763967, 47), contains 27.13% of total data\n",
      "Test data - distribution of credit events:\n",
      "0    655559\n",
      "1    108408\n",
      "Name: credit_event, dtype: int64\n"
     ]
    }
   ],
   "source": [
    "print('Validation data: {}, contains {:1.2f}% of total data'.\\\n",
    "      format(loan_data_val.shape, 100*loan_data_val.shape[0]/loan_data.shape[0]))\n",
    "print('Validation data - distribution of credit events:\\n{}'.\\\n",
    "      format(loan_data_val['credit_event'].value_counts()))\n",
    "\n",
    "print('Development data: {}, contains {:1.2f}% of total data'.\\\n",
    "      format(loan_data_dev.shape, 100*loan_data_dev.shape[0]/loan_data.shape[0]))\n",
    "print('Development data - distribution of credit events:\\n{}'.\\\n",
    "      format(loan_data_dev['credit_event'].value_counts()))\n",
    "\n",
    "print('Train data: {}, contains {:1.2f}% of total data'.\\\n",
    "      format(loan_data_train.shape, 100*loan_data_train.shape[0]/loan_data.shape[0]))\n",
    "print('Train data - distribution of credit events:\\n{}'.\\\n",
    "      format(loan_data_train['credit_event'].value_counts()))\n",
    "\n",
    "print('Test data: {}, contains {:1.2f}% of total data'.\\\n",
    "      format(loan_data_test.shape, 100*loan_data_test.shape[0]/loan_data.shape[0]))\n",
    "print('Test data - distribution of credit events:\\n{}'.\\\n",
    "      format(loan_data_test['credit_event'].value_counts()))"
   ]
  },
  {
   "cell_type": "code",
   "execution_count": 12,
   "metadata": {},
   "outputs": [
    {
     "data": {
      "text/html": [
       "<div>\n",
       "<style scoped>\n",
       "    .dataframe tbody tr th:only-of-type {\n",
       "        vertical-align: middle;\n",
       "    }\n",
       "\n",
       "    .dataframe tbody tr th {\n",
       "        vertical-align: top;\n",
       "    }\n",
       "\n",
       "    .dataframe thead th {\n",
       "        text-align: right;\n",
       "    }\n",
       "</style>\n",
       "<table border=\"1\" class=\"dataframe\">\n",
       "  <thead>\n",
       "    <tr style=\"text-align: right;\">\n",
       "      <th></th>\n",
       "      <th>acc_open_past_24mths</th>\n",
       "      <th>annual_inc</th>\n",
       "      <th>avg_cur_bal</th>\n",
       "      <th>bc_open_to_buy</th>\n",
       "      <th>bc_util</th>\n",
       "      <th>credit_event</th>\n",
       "      <th>dti</th>\n",
       "      <th>fico</th>\n",
       "      <th>inq_last_6mths</th>\n",
       "      <th>int_rate</th>\n",
       "      <th>mo_sin_old_rev_tl_op</th>\n",
       "      <th>mo_sin_rcnt_rev_tl_op</th>\n",
       "      <th>mo_sin_rcnt_tl</th>\n",
       "      <th>mort_acc</th>\n",
       "      <th>mths_since_recent_bc</th>\n",
       "      <th>num_actv_rev_tl</th>\n",
       "      <th>num_tl_op_past_12m</th>\n",
       "      <th>percent_bc_gt_75</th>\n",
       "      <th>revol_util</th>\n",
       "      <th>tot_cur_bal</th>\n",
       "      <th>tot_hi_cred_lim</th>\n",
       "      <th>total_bc_limit</th>\n",
       "      <th>total_rev_hi_lim</th>\n",
       "      <th>grade_B</th>\n",
       "      <th>grade_C</th>\n",
       "      <th>grade_D</th>\n",
       "      <th>grade_E</th>\n",
       "      <th>grade_F</th>\n",
       "      <th>grade_G</th>\n",
       "      <th>home_ownership_OWN</th>\n",
       "      <th>home_ownership_RENT</th>\n",
       "      <th>purpose_credit_card</th>\n",
       "      <th>purpose_debt_consolidation</th>\n",
       "      <th>purpose_educational</th>\n",
       "      <th>purpose_home_improvement</th>\n",
       "      <th>purpose_house</th>\n",
       "      <th>purpose_major_purchase</th>\n",
       "      <th>purpose_medical</th>\n",
       "      <th>purpose_moving</th>\n",
       "      <th>purpose_other</th>\n",
       "      <th>purpose_renewable_energy</th>\n",
       "      <th>purpose_small_business</th>\n",
       "      <th>purpose_vacation</th>\n",
       "      <th>purpose_wedding</th>\n",
       "      <th>term_ 60 months</th>\n",
       "      <th>verification_status_Source Verified</th>\n",
       "      <th>verification_status_Verified</th>\n",
       "    </tr>\n",
       "  </thead>\n",
       "  <tbody>\n",
       "    <tr>\n",
       "      <th>0</th>\n",
       "      <td>6.0</td>\n",
       "      <td>40500.0</td>\n",
       "      <td>12586.0</td>\n",
       "      <td>4395.0</td>\n",
       "      <td>67.9</td>\n",
       "      <td>0</td>\n",
       "      <td>21.43</td>\n",
       "      <td>677.0</td>\n",
       "      <td>1.0</td>\n",
       "      <td>10.33</td>\n",
       "      <td>83.0</td>\n",
       "      <td>4.0</td>\n",
       "      <td>4.0</td>\n",
       "      <td>2.0</td>\n",
       "      <td>7.0</td>\n",
       "      <td>5.0</td>\n",
       "      <td>4.0</td>\n",
       "      <td>60.0</td>\n",
       "      <td>65.0</td>\n",
       "      <td>138449.0</td>\n",
       "      <td>153879.0</td>\n",
       "      <td>13700.0</td>\n",
       "      <td>21500.0</td>\n",
       "      <td>1</td>\n",
       "      <td>0</td>\n",
       "      <td>0</td>\n",
       "      <td>0</td>\n",
       "      <td>0</td>\n",
       "      <td>0</td>\n",
       "      <td>0</td>\n",
       "      <td>0</td>\n",
       "      <td>1</td>\n",
       "      <td>0</td>\n",
       "      <td>0</td>\n",
       "      <td>0</td>\n",
       "      <td>0</td>\n",
       "      <td>0</td>\n",
       "      <td>0</td>\n",
       "      <td>0</td>\n",
       "      <td>0</td>\n",
       "      <td>0</td>\n",
       "      <td>0</td>\n",
       "      <td>0</td>\n",
       "      <td>0</td>\n",
       "      <td>1</td>\n",
       "      <td>0</td>\n",
       "      <td>1</td>\n",
       "    </tr>\n",
       "    <tr>\n",
       "      <th>1</th>\n",
       "      <td>6.0</td>\n",
       "      <td>91000.0</td>\n",
       "      <td>23166.0</td>\n",
       "      <td>1546.0</td>\n",
       "      <td>86.6</td>\n",
       "      <td>0</td>\n",
       "      <td>32.90</td>\n",
       "      <td>702.0</td>\n",
       "      <td>0.0</td>\n",
       "      <td>14.46</td>\n",
       "      <td>150.0</td>\n",
       "      <td>3.0</td>\n",
       "      <td>3.0</td>\n",
       "      <td>5.0</td>\n",
       "      <td>3.0</td>\n",
       "      <td>5.0</td>\n",
       "      <td>3.0</td>\n",
       "      <td>50.0</td>\n",
       "      <td>67.1</td>\n",
       "      <td>277995.0</td>\n",
       "      <td>319594.0</td>\n",
       "      <td>11500.0</td>\n",
       "      <td>19200.0</td>\n",
       "      <td>0</td>\n",
       "      <td>1</td>\n",
       "      <td>0</td>\n",
       "      <td>0</td>\n",
       "      <td>0</td>\n",
       "      <td>0</td>\n",
       "      <td>0</td>\n",
       "      <td>0</td>\n",
       "      <td>0</td>\n",
       "      <td>1</td>\n",
       "      <td>0</td>\n",
       "      <td>0</td>\n",
       "      <td>0</td>\n",
       "      <td>0</td>\n",
       "      <td>0</td>\n",
       "      <td>0</td>\n",
       "      <td>0</td>\n",
       "      <td>0</td>\n",
       "      <td>0</td>\n",
       "      <td>0</td>\n",
       "      <td>0</td>\n",
       "      <td>0</td>\n",
       "      <td>0</td>\n",
       "      <td>0</td>\n",
       "    </tr>\n",
       "    <tr>\n",
       "      <th>2</th>\n",
       "      <td>14.0</td>\n",
       "      <td>72000.0</td>\n",
       "      <td>8249.0</td>\n",
       "      <td>309.0</td>\n",
       "      <td>84.5</td>\n",
       "      <td>0</td>\n",
       "      <td>18.33</td>\n",
       "      <td>687.0</td>\n",
       "      <td>2.0</td>\n",
       "      <td>16.99</td>\n",
       "      <td>126.0</td>\n",
       "      <td>2.0</td>\n",
       "      <td>2.0</td>\n",
       "      <td>1.0</td>\n",
       "      <td>84.0</td>\n",
       "      <td>4.0</td>\n",
       "      <td>5.0</td>\n",
       "      <td>100.0</td>\n",
       "      <td>28.3</td>\n",
       "      <td>74243.0</td>\n",
       "      <td>97331.0</td>\n",
       "      <td>2000.0</td>\n",
       "      <td>7600.0</td>\n",
       "      <td>0</td>\n",
       "      <td>0</td>\n",
       "      <td>1</td>\n",
       "      <td>0</td>\n",
       "      <td>0</td>\n",
       "      <td>0</td>\n",
       "      <td>1</td>\n",
       "      <td>0</td>\n",
       "      <td>0</td>\n",
       "      <td>1</td>\n",
       "      <td>0</td>\n",
       "      <td>0</td>\n",
       "      <td>0</td>\n",
       "      <td>0</td>\n",
       "      <td>0</td>\n",
       "      <td>0</td>\n",
       "      <td>0</td>\n",
       "      <td>0</td>\n",
       "      <td>0</td>\n",
       "      <td>0</td>\n",
       "      <td>0</td>\n",
       "      <td>0</td>\n",
       "      <td>0</td>\n",
       "      <td>1</td>\n",
       "    </tr>\n",
       "    <tr>\n",
       "      <th>3</th>\n",
       "      <td>3.0</td>\n",
       "      <td>24000.0</td>\n",
       "      <td>4940.0</td>\n",
       "      <td>18759.0</td>\n",
       "      <td>35.5</td>\n",
       "      <td>0</td>\n",
       "      <td>23.70</td>\n",
       "      <td>717.0</td>\n",
       "      <td>0.0</td>\n",
       "      <td>10.33</td>\n",
       "      <td>145.0</td>\n",
       "      <td>3.0</td>\n",
       "      <td>3.0</td>\n",
       "      <td>0.0</td>\n",
       "      <td>19.0</td>\n",
       "      <td>2.0</td>\n",
       "      <td>1.0</td>\n",
       "      <td>0.0</td>\n",
       "      <td>28.6</td>\n",
       "      <td>29640.0</td>\n",
       "      <td>59482.0</td>\n",
       "      <td>29100.0</td>\n",
       "      <td>36100.0</td>\n",
       "      <td>1</td>\n",
       "      <td>0</td>\n",
       "      <td>0</td>\n",
       "      <td>0</td>\n",
       "      <td>0</td>\n",
       "      <td>0</td>\n",
       "      <td>1</td>\n",
       "      <td>0</td>\n",
       "      <td>0</td>\n",
       "      <td>1</td>\n",
       "      <td>0</td>\n",
       "      <td>0</td>\n",
       "      <td>0</td>\n",
       "      <td>0</td>\n",
       "      <td>0</td>\n",
       "      <td>0</td>\n",
       "      <td>0</td>\n",
       "      <td>0</td>\n",
       "      <td>0</td>\n",
       "      <td>0</td>\n",
       "      <td>0</td>\n",
       "      <td>1</td>\n",
       "      <td>0</td>\n",
       "      <td>0</td>\n",
       "    </tr>\n",
       "    <tr>\n",
       "      <th>4</th>\n",
       "      <td>1.0</td>\n",
       "      <td>19644.0</td>\n",
       "      <td>21695.0</td>\n",
       "      <td>439.0</td>\n",
       "      <td>75.6</td>\n",
       "      <td>0</td>\n",
       "      <td>12.49</td>\n",
       "      <td>672.0</td>\n",
       "      <td>0.0</td>\n",
       "      <td>11.71</td>\n",
       "      <td>197.0</td>\n",
       "      <td>9.0</td>\n",
       "      <td>9.0</td>\n",
       "      <td>2.0</td>\n",
       "      <td>105.0</td>\n",
       "      <td>2.0</td>\n",
       "      <td>1.0</td>\n",
       "      <td>100.0</td>\n",
       "      <td>50.5</td>\n",
       "      <td>86780.0</td>\n",
       "      <td>94300.0</td>\n",
       "      <td>1800.0</td>\n",
       "      <td>5300.0</td>\n",
       "      <td>1</td>\n",
       "      <td>0</td>\n",
       "      <td>0</td>\n",
       "      <td>0</td>\n",
       "      <td>0</td>\n",
       "      <td>0</td>\n",
       "      <td>0</td>\n",
       "      <td>0</td>\n",
       "      <td>0</td>\n",
       "      <td>0</td>\n",
       "      <td>0</td>\n",
       "      <td>0</td>\n",
       "      <td>0</td>\n",
       "      <td>0</td>\n",
       "      <td>0</td>\n",
       "      <td>0</td>\n",
       "      <td>1</td>\n",
       "      <td>0</td>\n",
       "      <td>0</td>\n",
       "      <td>0</td>\n",
       "      <td>0</td>\n",
       "      <td>0</td>\n",
       "      <td>0</td>\n",
       "      <td>0</td>\n",
       "    </tr>\n",
       "  </tbody>\n",
       "</table>\n",
       "</div>"
      ],
      "text/plain": [
       "   acc_open_past_24mths  annual_inc  avg_cur_bal  bc_open_to_buy  bc_util  credit_event    dti   fico  inq_last_6mths  int_rate  mo_sin_old_rev_tl_op  mo_sin_rcnt_rev_tl_op  mo_sin_rcnt_tl  mort_acc  mths_since_recent_bc  num_actv_rev_tl  num_tl_op_past_12m  percent_bc_gt_75  revol_util  tot_cur_bal  tot_hi_cred_lim  total_bc_limit  total_rev_hi_lim  grade_B  grade_C  grade_D  grade_E  grade_F  grade_G  home_ownership_OWN  home_ownership_RENT  purpose_credit_card  purpose_debt_consolidation  purpose_educational  purpose_home_improvement  purpose_house  purpose_major_purchase  purpose_medical  purpose_moving  purpose_other  purpose_renewable_energy  purpose_small_business  purpose_vacation  purpose_wedding  term_ 60 months  verification_status_Source Verified  verification_status_Verified\n",
       "0                   6.0     40500.0      12586.0          4395.0     67.9             0  21.43  677.0             1.0     10.33                  83.0                    4.0             4.0       2.0                   7.0              5.0                 4.0              60.0        65.0     138449.0         153879.0         13700.0           21500.0        1        0        0        0        0        0                   0                    0                    1                           0                    0                         0              0                       0                0               0              0                         0                       0                 0                0                1                                    0                             1\n",
       "1                   6.0     91000.0      23166.0          1546.0     86.6             0  32.90  702.0             0.0     14.46                 150.0                    3.0             3.0       5.0                   3.0              5.0                 3.0              50.0        67.1     277995.0         319594.0         11500.0           19200.0        0        1        0        0        0        0                   0                    0                    0                           1                    0                         0              0                       0                0               0              0                         0                       0                 0                0                0                                    0                             0\n",
       "2                  14.0     72000.0       8249.0           309.0     84.5             0  18.33  687.0             2.0     16.99                 126.0                    2.0             2.0       1.0                  84.0              4.0                 5.0             100.0        28.3      74243.0          97331.0          2000.0            7600.0        0        0        1        0        0        0                   1                    0                    0                           1                    0                         0              0                       0                0               0              0                         0                       0                 0                0                0                                    0                             1\n",
       "3                   3.0     24000.0       4940.0         18759.0     35.5             0  23.70  717.0             0.0     10.33                 145.0                    3.0             3.0       0.0                  19.0              2.0                 1.0               0.0        28.6      29640.0          59482.0         29100.0           36100.0        1        0        0        0        0        0                   1                    0                    0                           1                    0                         0              0                       0                0               0              0                         0                       0                 0                0                1                                    0                             0\n",
       "4                   1.0     19644.0      21695.0           439.0     75.6             0  12.49  672.0             0.0     11.71                 197.0                    9.0             9.0       2.0                 105.0              2.0                 1.0             100.0        50.5      86780.0          94300.0          1800.0            5300.0        1        0        0        0        0        0                   0                    0                    0                           0                    0                         0              0                       0                0               0              1                         0                       0                 0                0                0                                    0                             0"
      ]
     },
     "execution_count": 12,
     "metadata": {},
     "output_type": "execute_result"
    }
   ],
   "source": [
    "loan_data_train.head()"
   ]
  },
  {
   "cell_type": "code",
   "execution_count": 13,
   "metadata": {},
   "outputs": [
    {
     "name": "stdout",
     "output_type": "stream",
     "text": [
      "22\n"
     ]
    },
    {
     "name": "stderr",
     "output_type": "stream",
     "text": [
      "C:\\Users\\uditg\\anaconda3\\lib\\site-packages\\sklearn\\linear_model\\_sag.py:329: ConvergenceWarning: The max_iter was reached which means the coef_ did not converge\n",
      "  warnings.warn(\"The max_iter was reached which means \"\n"
     ]
    },
    {
     "data": {
      "text/plain": [
       "LogisticRegression(solver='sag')"
      ]
     },
     "execution_count": 13,
     "metadata": {},
     "output_type": "execute_result"
    }
   ],
   "source": [
    "# Fit Logistic Regression Model - no cross validation, using full development data\n",
    "\n",
    "x_train = loan_data_dev.drop(columns = 'credit_event')\n",
    "y_train = loan_data_dev['credit_event']\n",
    "\n",
    "num_features = list(x_train.columns[(x_train.dtypes == 'float64')])\n",
    "print(len(num_features))\n",
    "\n",
    "scaling = StandardScaler()\n",
    "x_train[num_features] = scaling.fit_transform(x_train[num_features])\n",
    "\n",
    "model_lr = LogisticRegression(solver='sag',class_weight=None,max_iter=100)\n",
    "# “sag” solver uses Stochastic Average Gradient descent. \n",
    "# It is faster than other solvers for large datasets, when both the number of samples and the number of features are large.\n",
    "\n",
    "model_lr.fit(x_train, y_train)"
   ]
  },
  {
   "cell_type": "code",
   "execution_count": 14,
   "metadata": {},
   "outputs": [
    {
     "data": {
      "text/plain": [
       "0.857837352815863"
      ]
     },
     "execution_count": 14,
     "metadata": {},
     "output_type": "execute_result"
    }
   ],
   "source": [
    "model_lr.score(x_train, y_train) #0.85 - predicting everything is 0 would itself be ~0.84 accurate"
   ]
  },
  {
   "cell_type": "code",
   "execution_count": 15,
   "metadata": {},
   "outputs": [
    {
     "data": {
      "text/plain": [
       "0.991061348781937"
      ]
     },
     "execution_count": 15,
     "metadata": {},
     "output_type": "execute_result"
    }
   ],
   "source": [
    "x_val = loan_data_val.drop(columns = 'credit_event')\n",
    "x_val[num_features] = scaling.transform(x_val[num_features])\n",
    "y_val = loan_data_val['credit_event']\n",
    "\n",
    "model_lr.score(x_val, y_val) #0.99 - validation data set is highly imbalanced; the score alone doesn't tell much"
   ]
  },
  {
   "cell_type": "code",
   "execution_count": 16,
   "metadata": {},
   "outputs": [],
   "source": [
    "# Cross Validation\n",
    "# scores = cross_val_score(model_lr, x_train, y_train, cv=5)\n",
    "# print(scores, np.mean(scores)) \n",
    "#[0.85767831 0.85765672 0.85653952 0.85771169 0.85730722] 0.8573786939610573"
   ]
  },
  {
   "cell_type": "code",
   "execution_count": 17,
   "metadata": {},
   "outputs": [
    {
     "name": "stdout",
     "output_type": "stream",
     "text": [
      "No-Skill: AUC=0.702\n",
      "Model: AUC=0.500\n",
      "YoudenJ threshold: 0.1395\n"
     ]
    },
    {
     "data": {
      "image/png": "[encoded data removed]",
      "text/plain": [
       "<Figure size 1440x360 with 3 Axes>"
      ]
     },
     "metadata": {
      "needs_background": "light"
     },
     "output_type": "display_data"
    }
   ],
   "source": [
    "# ROC/ AUC\n",
    "# https://scikit-learn.org/stable/modules/generated/sklearn.metrics.roc_curve.html\n",
    "# https://www.dataschool.io/simple-guide-to-confusion-matrix-terminology/\n",
    "\n",
    "def model_ROC(x, y, model):\n",
    "    y_prob_model = model.predict_proba(x)[:,1]\n",
    "    y_prob_null = [0]*len(y)\n",
    "    \n",
    "    fpr, tpr, threshold = roc_curve(y, y_prob_model)\n",
    "    fpr_null, tpr_null, _ = roc_curve(y, y_prob_null)\n",
    "\n",
    "    xmax = max(model.predict_proba(x)[:,1])\n",
    "\n",
    "    fig, ax = plt.subplots(nrows=1, ncols=3, figsize=(20,5))\n",
    "    \n",
    "    # tpr = TP/TP+FN = Sensitivity/ Recall\n",
    "    # tnr = 1-fpr = TN/TN+FP = Specificity\n",
    "    \n",
    "    ax[0].plot(threshold, tpr, label=\"True Positive rate\")\n",
    "    ax[0].plot(threshold, 1-fpr, label=\"True Negative rate\")   \n",
    "    ax[0].legend()\n",
    "    ax[0].set_xlabel('Threshold')\n",
    "    ax[0].set_ylabel('True Positive & False Positive Rates')\n",
    "    ax[0].set_xlim([0,xmax])\n",
    "\n",
    "    ax[1].plot(threshold, tpr + (1 - fpr))\n",
    "    ax[1].set_xlabel('Threshold')\n",
    "    ax[1].set_ylabel('Sensitivity + Specificity')\n",
    "    ax[1].set_xlim([0,xmax])\n",
    "\n",
    "    ax[2].plot(fpr, tpr, linestyle='-', label='Model')\n",
    "    ax[2].plot(fpr_null, tpr_null, linestyle='--', label='No-Skill')\n",
    "    ax[2].set_xlabel('True Positive Rate')\n",
    "    ax[2].set_ylabel('False Positive Rate')\n",
    "    ax[2].legend()\n",
    "   \n",
    "    print('No-Skill: AUC=%.3f' % (roc_auc_score(y, y_prob_model)))\n",
    "    print('Model: AUC=%.3f' % (roc_auc_score(y, y_prob_null)))  \n",
    "    \n",
    "    # https://en.wikipedia.org/wiki/Youden%27s_J_statistic\n",
    "    return threshold[np.argmax(tpr + (1 - fpr))]\n",
    "\n",
    "thresh_yj_train = model_ROC(x_train, y_train, model_lr)\n",
    "print('YoudenJ threshold: {:1.4f}'.format(thresh_yj_train) )"
   ]
  },
  {
   "cell_type": "code",
   "execution_count": 18,
   "metadata": {},
   "outputs": [
    {
     "name": "stdout",
     "output_type": "stream",
     "text": [
      "No-Skill: AUC=0.665\n",
      "Model: AUC=0.500\n",
      "YoudenJ threshold: 0.1306\n"
     ]
    },
    {
     "data": {
      "image/png": "[encoded data removed]",
      "text/plain": [
       "<Figure size 1440x360 with 3 Axes>"
      ]
     },
     "metadata": {
      "needs_background": "light"
     },
     "output_type": "display_data"
    }
   ],
   "source": [
    "thresh_yj_val = model_ROC(x_val, y_val, model_lr)\n",
    "print('YoudenJ threshold: {:1.4f}'.format(thresh_yj_val) )"
   ]
  },
  {
   "cell_type": "code",
   "execution_count": 19,
   "metadata": {
    "scrolled": true
   },
   "outputs": [
    {
     "name": "stderr",
     "output_type": "stream",
     "text": [
      "<ipython-input-19-ae55f5e225f0>:10: RuntimeWarning: invalid value encountered in true_divide\n",
      "  fscore = (2 * precision * recall)/(precision + recall)\n"
     ]
    },
    {
     "name": "stdout",
     "output_type": "stream",
     "text": [
      "Fscore Threshold=0.1676, Fscore=0.3446\n"
     ]
    },
    {
     "data": {
      "image/png": "[encoded data removed]",
      "text/plain": [
       "<Figure size 432x288 with 1 Axes>"
      ]
     },
     "metadata": {
      "needs_background": "light"
     },
     "output_type": "display_data"
    }
   ],
   "source": [
    "# https://machinelearningmastery.com/threshold-moving-for-imbalanced-classification/\n",
    "# https://scikit-learn.org/stable/modules/generated/sklearn.metrics.precision_recall_curve.html\n",
    "\n",
    "def model_F_score(x, y, model):\n",
    "    y_prob_model = model.predict_proba(x)[:,1]\n",
    "\n",
    "    # Compute precision-recall pairs for different probability thresholds\n",
    "    precision, recall, thresholds = precision_recall_curve(y, y_prob_model)\n",
    "    \n",
    "    fscore = (2 * precision * recall)/(precision + recall)\n",
    "    fscore_max = max(fscore)\n",
    "    \n",
    "    # Thresholds length is 1 less than Precision & Recall vectors (refer documentation)\n",
    "    threshold_best = thresholds[fscore[:-1] == max(fscore)][0]\n",
    "       \n",
    "    print('Fscore Threshold={:1.4f}, Fscore={:1.4f}'.format(threshold_best, fscore_max))\n",
    "    \n",
    "    \n",
    "    no_skill = len(y[y==1])/len(y)\n",
    "    \n",
    "    plt.plot(recall[:-1], precision[:-1], marker='.', label='Model')\n",
    "    plt.plot([0,1], [no_skill, no_skill], linestyle='--', label='No Skill')  #TBD\n",
    "    plt.legend()\n",
    "    plt.xlabel('Recall')\n",
    "    plt.ylabel('Precision')\n",
    "    \n",
    "    return threshold_best, fscore_max\n",
    "\n",
    "thresh_f_train, fscore_train = model_F_score(x_train, y_train, model_lr)"
   ]
  },
  {
   "cell_type": "code",
   "execution_count": 20,
   "metadata": {},
   "outputs": [],
   "source": [
    "# thresh_f_train, fscore_train = model_F_score(x_val, y_val, model) #Fscore Threshold=0.2389"
   ]
  },
  {
   "cell_type": "code",
   "execution_count": 21,
   "metadata": {},
   "outputs": [],
   "source": [
    "# Confusion Matrix\n",
    "# https://scikit-learn.org/stable/modules/generated/sklearn.metrics.confusion_matrix.html\n",
    "\n",
    "def model_cmatrix(x, y, model, threshold):\n",
    "    y_prob_model = model.predict_proba(x)[:,1]\n",
    "    y_prediction = np.where(y_prob_model >= threshold, 1, 0)\n",
    "\n",
    "    confusion = confusion_matrix(y, y_prediction)\n",
    "\n",
    "    sns.heatmap(confusion, annot=True, fmt=\"0\", cmap='Blues');\n",
    "    plt.xlabel('Prediction')\n",
    "    plt.ylabel('Actuals')\n",
    "    \n",
    "    return confusion    "
   ]
  },
  {
   "cell_type": "code",
   "execution_count": 22,
   "metadata": {},
   "outputs": [
    {
     "data": {
      "text/plain": [
       "array([[1345826,  839013],\n",
       "       [ 116712,  245004]], dtype=int64)"
      ]
     },
     "execution_count": 22,
     "metadata": {},
     "output_type": "execute_result"
    },
    {
     "data": {
      "image/png": "[encoded data removed]",
      "text/plain": [
       "<Figure size 432x288 with 2 Axes>"
      ]
     },
     "metadata": {
      "needs_background": "light"
     },
     "output_type": "display_data"
    }
   ],
   "source": [
    "model_cmatrix(x_train, y_train, model_lr, thresh_yj_train)"
   ]
  },
  {
   "cell_type": "code",
   "execution_count": 23,
   "metadata": {},
   "outputs": [
    {
     "data": {
      "text/plain": [
       "array([[1573948,  610891],\n",
       "       [ 159270,  202446]], dtype=int64)"
      ]
     },
     "execution_count": 23,
     "metadata": {},
     "output_type": "execute_result"
    },
    {
     "data": {
      "image/png": "[encoded data removed]",
      "text/plain": [
       "<Figure size 432x288 with 2 Axes>"
      ]
     },
     "metadata": {
      "needs_background": "light"
     },
     "output_type": "display_data"
    }
   ],
   "source": [
    "model_cmatrix(x_train, y_train, model_lr, thresh_f_train)"
   ]
  },
  {
   "cell_type": "code",
   "execution_count": 24,
   "metadata": {},
   "outputs": [
    {
     "data": {
      "text/plain": [
       "array([[182565,  84453],\n",
       "       [   979,   1283]], dtype=int64)"
      ]
     },
     "execution_count": 24,
     "metadata": {},
     "output_type": "execute_result"
    },
    {
     "data": {
      "image/png": "[encoded data removed]",
      "text/plain": [
       "<Figure size 432x288 with 2 Axes>"
      ]
     },
     "metadata": {
      "needs_background": "light"
     },
     "output_type": "display_data"
    }
   ],
   "source": [
    "model_cmatrix(x_val, y_val, model_lr, thresh_yj_train)"
   ]
  },
  {
   "cell_type": "markdown",
   "metadata": {},
   "source": [
    "### Next Steps ###\n",
    "* Feature transformation might improve the model fit\n",
    "* Try more complicated models, such as Random Forest"
   ]
  },
  {
   "cell_type": "code",
   "execution_count": null,
   "metadata": {},
   "outputs": [],
   "source": []
  },
  {
   "cell_type": "code",
   "execution_count": null,
   "metadata": {},
   "outputs": [],
   "source": [
    "# TBD\n",
    "\n",
    "#from sklearn.ensemble import RandomForestClassifier\n",
    "\n",
    "#model_rf = RandomForestClassifier(n_estimators=500)\n",
    "#model_rf.fit(x_train, y_train)\n",
    "\n",
    "\n",
    "#thresh_yj_train = model_ROC(x_train, y_train, model_rf)\n",
    "#print('YoudenJ threshold: {:1.4f}'.format(thresh_yj_train) )\n",
    "\n",
    "#model_cmatrix(x_val, y_val, model_rf, thresh_yj_train)"
   ]
  },
  {
   "cell_type": "code",
   "execution_count": null,
   "metadata": {},
   "outputs": [],
   "source": []
  }
 ],
 "metadata": {
  "kernelspec": {
   "display_name": "Python 3",
   "language": "python",
   "name": "python3"
  },
  "language_info": {
   "codemirror_mode": {
    "name": "ipython",
    "version": 3
   },
   "file_extension": ".py",
   "mimetype": "text/x-python",
   "name": "python",
   "nbconvert_exporter": "python",
   "pygments_lexer": "ipython3",
   "version": "3.8.5"
  }
 },
 "nbformat": 4,
 "nbformat_minor": 4
}

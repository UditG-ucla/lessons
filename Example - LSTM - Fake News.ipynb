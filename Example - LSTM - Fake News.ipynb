{
 "cells": [
  {
   "cell_type": "code",
   "execution_count": 1,
   "metadata": {},
   "outputs": [],
   "source": [
    "# General approach: \n",
    "    # News Texts: Sentences -> tokenize -> pad/truncate\n",
    "    # Labels: already in 0,1\n",
    "# LSTM\n",
    "    # Vector Embedding layer (each work = n-dimensional vector)\n",
    "    # Bi-directional LSTM with return_sequence True -> another Bi-directional LSTM"
   ]
  },
  {
   "cell_type": "code",
   "execution_count": 2,
   "metadata": {},
   "outputs": [],
   "source": [
    "import numpy as np\n",
    "import pandas as pd\n",
    "import matplotlib.pyplot as plt\n",
    "%matplotlib inline\n",
    "from sklearn.model_selection import train_test_split\n",
    "from sklearn.metrics import accuracy_score, confusion_matrix\n",
    "\n",
    "import tensorflow as tf\n",
    "from tensorflow.keras.preprocessing.text import Tokenizer\n",
    "from tensorflow.keras.preprocessing.sequence import pad_sequences\n",
    "import random"
   ]
  },
  {
   "cell_type": "markdown",
   "metadata": {},
   "source": [
    "### Load Data"
   ]
  },
  {
   "cell_type": "code",
   "execution_count": 3,
   "metadata": {},
   "outputs": [],
   "source": [
    "train_df = pd.read_csv('../../Github/python-data-science/data/fake_news/train_data.csv', index_col='id')\n",
    "test_df = pd.read_csv('../../Github/python-data-science/data/fake_news/test_data.csv', index_col='id')"
   ]
  },
  {
   "cell_type": "code",
   "execution_count": 4,
   "metadata": {},
   "outputs": [
    {
     "name": "stdout",
     "output_type": "stream",
     "text": [
      "(72032, 3) (5200, 3)\n"
     ]
    }
   ],
   "source": [
    "print(train_df.shape, test_df.shape)"
   ]
  },
  {
   "cell_type": "code",
   "execution_count": 5,
   "metadata": {},
   "outputs": [
    {
     "data": {
      "text/plain": [
       "(77232, 3)"
      ]
     },
     "execution_count": 5,
     "metadata": {},
     "output_type": "execute_result"
    }
   ],
   "source": [
    "new_df = train_df.append(test_df)\n",
    "new_df.shape"
   ]
  },
  {
   "cell_type": "code",
   "execution_count": 6,
   "metadata": {},
   "outputs": [
    {
     "data": {
      "text/plain": [
       "45"
      ]
     },
     "execution_count": 6,
     "metadata": {},
     "output_type": "execute_result"
    }
   ],
   "source": [
    "new_df = new_df[['text', 'label']]\n",
    "new_df['text'].isna().sum()"
   ]
  },
  {
   "cell_type": "code",
   "execution_count": 7,
   "metadata": {},
   "outputs": [
    {
     "data": {
      "text/plain": [
       "(77187, 2)"
      ]
     },
     "execution_count": 7,
     "metadata": {},
     "output_type": "execute_result"
    }
   ],
   "source": [
    "new_df = new_df.dropna()  # non-english articles\n",
    "new_df.shape"
   ]
  },
  {
   "cell_type": "code",
   "execution_count": 8,
   "metadata": {},
   "outputs": [
    {
     "name": "stdout",
     "output_type": "stream",
     "text": [
      "(61749, 2) (15438, 2)\n"
     ]
    }
   ],
   "source": [
    "train_df, test_df, _ , _ = train_test_split(new_df, new_df['label'], test_size=0.2, stratify=new_df['label'], random_state=12)\n",
    "print(train_df.shape, test_df.shape)"
   ]
  },
  {
   "cell_type": "code",
   "execution_count": 9,
   "metadata": {},
   "outputs": [
    {
     "data": {
      "text/plain": [
       "(0    40208\n",
       " 1    21541\n",
       " Name: label, dtype: int64,\n",
       " 0    10052\n",
       " 1     5386\n",
       " Name: label, dtype: int64)"
      ]
     },
     "execution_count": 9,
     "metadata": {},
     "output_type": "execute_result"
    }
   ],
   "source": [
    "train_df['label'].value_counts(), test_df['label'].value_counts()"
   ]
  },
  {
   "cell_type": "code",
   "execution_count": 10,
   "metadata": {},
   "outputs": [
    {
     "data": {
      "text/html": [
       "<div>\n",
       "<style scoped>\n",
       "    .dataframe tbody tr th:only-of-type {\n",
       "        vertical-align: middle;\n",
       "    }\n",
       "\n",
       "    .dataframe tbody tr th {\n",
       "        vertical-align: top;\n",
       "    }\n",
       "\n",
       "    .dataframe thead th {\n",
       "        text-align: right;\n",
       "    }\n",
       "</style>\n",
       "<table border=\"1\" class=\"dataframe\">\n",
       "  <thead>\n",
       "    <tr style=\"text-align: right;\">\n",
       "      <th></th>\n",
       "      <th>text</th>\n",
       "      <th>label</th>\n",
       "    </tr>\n",
       "    <tr>\n",
       "      <th>id</th>\n",
       "      <th></th>\n",
       "      <th></th>\n",
       "    </tr>\n",
       "  </thead>\n",
       "  <tbody>\n",
       "    <tr>\n",
       "      <th>1352</th>\n",
       "      <td>A week ago, it would have seemed wildly unlike...</td>\n",
       "      <td>0</td>\n",
       "    </tr>\n",
       "    <tr>\n",
       "      <th>25683</th>\n",
       "      <td>A group known in Arizona for assisting illegal...</td>\n",
       "      <td>1</td>\n",
       "    </tr>\n",
       "    <tr>\n",
       "      <th>17971</th>\n",
       "      <td>BEIRUT (Reuters) - Islamic State took control ...</td>\n",
       "      <td>1</td>\n",
       "    </tr>\n",
       "    <tr>\n",
       "      <th>1774</th>\n",
       "      <td>LONDON  —   Joe Corré, the son of Malcolm McLa...</td>\n",
       "      <td>0</td>\n",
       "    </tr>\n",
       "    <tr>\n",
       "      <th>10332</th>\n",
       "      <td>Vickie Paladino and her husband were driving t...</td>\n",
       "      <td>0</td>\n",
       "    </tr>\n",
       "  </tbody>\n",
       "</table>\n",
       "</div>"
      ],
      "text/plain": [
       "                                                    text  label\n",
       "id                                                             \n",
       "1352   A week ago, it would have seemed wildly unlike...      0\n",
       "25683  A group known in Arizona for assisting illegal...      1\n",
       "17971  BEIRUT (Reuters) - Islamic State took control ...      1\n",
       "1774   LONDON  —   Joe Corré, the son of Malcolm McLa...      0\n",
       "10332  Vickie Paladino and her husband were driving t...      0"
      ]
     },
     "execution_count": 10,
     "metadata": {},
     "output_type": "execute_result"
    }
   ],
   "source": [
    "train_df.head()"
   ]
  },
  {
   "cell_type": "code",
   "execution_count": 11,
   "metadata": {},
   "outputs": [
    {
     "data": {
      "text/html": [
       "<div>\n",
       "<style scoped>\n",
       "    .dataframe tbody tr th:only-of-type {\n",
       "        vertical-align: middle;\n",
       "    }\n",
       "\n",
       "    .dataframe tbody tr th {\n",
       "        vertical-align: top;\n",
       "    }\n",
       "\n",
       "    .dataframe thead th {\n",
       "        text-align: right;\n",
       "    }\n",
       "</style>\n",
       "<table border=\"1\" class=\"dataframe\">\n",
       "  <thead>\n",
       "    <tr style=\"text-align: right;\">\n",
       "      <th></th>\n",
       "      <th>text</th>\n",
       "      <th>label</th>\n",
       "    </tr>\n",
       "    <tr>\n",
       "      <th>id</th>\n",
       "      <th></th>\n",
       "      <th></th>\n",
       "    </tr>\n",
       "  </thead>\n",
       "  <tbody>\n",
       "    <tr>\n",
       "      <th>17066</th>\n",
       "      <td>Show biz: Business and breakthroughs Exclusive...</td>\n",
       "      <td>0</td>\n",
       "    </tr>\n",
       "    <tr>\n",
       "      <th>11255</th>\n",
       "      <td>(Reuters) - President Barack Obama knocked Rep...</td>\n",
       "      <td>1</td>\n",
       "    </tr>\n",
       "    <tr>\n",
       "      <th>16441</th>\n",
       "      <td>AMSTERDAM (Reuters) - King Willem-Alexander on...</td>\n",
       "      <td>1</td>\n",
       "    </tr>\n",
       "    <tr>\n",
       "      <th>11724</th>\n",
       "      <td>https://www.youtube.com/watch?v=rUr8pYr5AXs</td>\n",
       "      <td>0</td>\n",
       "    </tr>\n",
       "    <tr>\n",
       "      <th>11376</th>\n",
       "      <td>Elly Warren, from Melbourne, was travelling Af...</td>\n",
       "      <td>0</td>\n",
       "    </tr>\n",
       "  </tbody>\n",
       "</table>\n",
       "</div>"
      ],
      "text/plain": [
       "                                                    text  label\n",
       "id                                                             \n",
       "17066  Show biz: Business and breakthroughs Exclusive...      0\n",
       "11255  (Reuters) - President Barack Obama knocked Rep...      1\n",
       "16441  AMSTERDAM (Reuters) - King Willem-Alexander on...      1\n",
       "11724        https://www.youtube.com/watch?v=rUr8pYr5AXs      0\n",
       "11376  Elly Warren, from Melbourne, was travelling Af...      0"
      ]
     },
     "execution_count": 11,
     "metadata": {},
     "output_type": "execute_result"
    }
   ],
   "source": [
    "test_df.head()"
   ]
  },
  {
   "cell_type": "code",
   "execution_count": 12,
   "metadata": {},
   "outputs": [],
   "source": [
    "X_train = train_df['text']\n",
    "y_train = train_df['label']\n",
    "X_test  = test_df['text']\n",
    "y_test  = test_df['label']"
   ]
  },
  {
   "cell_type": "code",
   "execution_count": 13,
   "metadata": {},
   "outputs": [
    {
     "name": "stdout",
     "output_type": "stream",
     "text": [
      "(61749,) (61749,)\n",
      "(15438,) (15438,)\n"
     ]
    }
   ],
   "source": [
    "print(X_train.shape, y_train.shape)\n",
    "print(X_test.shape, y_test.shape)"
   ]
  },
  {
   "cell_type": "code",
   "execution_count": 14,
   "metadata": {},
   "outputs": [
    {
     "name": "stdout",
     "output_type": "stream",
     "text": [
      "(61749, 1) (15438, 1)\n"
     ]
    }
   ],
   "source": [
    "# Expanding Dimension of X data: # No. rows x No. features \n",
    "X_train = np.expand_dims(X_train, axis=-1)\n",
    "X_test = np.expand_dims(X_test, axis=-1)\n",
    "print(X_train.shape, X_test.shape)"
   ]
  },
  {
   "cell_type": "markdown",
   "metadata": {},
   "source": [
    "### Train/ Validation Split"
   ]
  },
  {
   "cell_type": "code",
   "execution_count": 15,
   "metadata": {},
   "outputs": [
    {
     "name": "stdout",
     "output_type": "stream",
     "text": [
      "(43224, 1) (18525, 1)\n"
     ]
    }
   ],
   "source": [
    "X_train, X_val, y_train, y_val = train_test_split(X_train, y_train, test_size=0.3, random_state=12)\n",
    "print(X_train.shape, X_val.shape)"
   ]
  },
  {
   "cell_type": "code",
   "execution_count": 16,
   "metadata": {},
   "outputs": [
    {
     "data": {
      "text/plain": [
       "(0    28240\n",
       " 1    14984\n",
       " Name: label, dtype: int64,\n",
       " 0    11968\n",
       " 1     6557\n",
       " Name: label, dtype: int64)"
      ]
     },
     "execution_count": 16,
     "metadata": {},
     "output_type": "execute_result"
    }
   ],
   "source": [
    "y_train.value_counts(), y_val.value_counts()"
   ]
  },
  {
   "cell_type": "markdown",
   "metadata": {},
   "source": [
    "### Text Vectorization"
   ]
  },
  {
   "cell_type": "code",
   "execution_count": 17,
   "metadata": {},
   "outputs": [],
   "source": [
    "# textvectorizer = TextVectorization(max_tokens=10000, \n",
    "#                                    output_mode='int',\n",
    "#                                    output_sequence_length=250)\n",
    "\n",
    "# # Computes a vocabulary of string terms from tokens in a dataset\n",
    "# textvectorizer.adapt(X_train) "
   ]
  },
  {
   "cell_type": "code",
   "execution_count": 18,
   "metadata": {},
   "outputs": [],
   "source": [
    "# str(X_train[0])[0:1000]"
   ]
  },
  {
   "cell_type": "code",
   "execution_count": 19,
   "metadata": {},
   "outputs": [],
   "source": [
    "# X_train_vec = textvectorizer(X_train)\n",
    "# X_val_vec   = textvectorizer(X_val)\n",
    "# X_test_vec  = textvectorizer(X_test)\n",
    "\n",
    "# print(X_train_vec.shape, X_val_vec.shape, X_test_vec.shape)"
   ]
  },
  {
   "cell_type": "code",
   "execution_count": 20,
   "metadata": {},
   "outputs": [],
   "source": [
    "# X_train_vec[0]"
   ]
  },
  {
   "cell_type": "markdown",
   "metadata": {},
   "source": [
    "### Tokenizer"
   ]
  },
  {
   "cell_type": "code",
   "execution_count": 21,
   "metadata": {},
   "outputs": [],
   "source": [
    "tokenizer = Tokenizer(num_words=10000, oov_token='<UNK>')"
   ]
  },
  {
   "cell_type": "code",
   "execution_count": 22,
   "metadata": {},
   "outputs": [],
   "source": [
    "tokenizer.fit_on_texts([i[0] for i in X_train])"
   ]
  },
  {
   "cell_type": "code",
   "execution_count": 23,
   "metadata": {},
   "outputs": [
    {
     "data": {
      "text/plain": [
       "('HAVANA (Reuters) - Cuba s foreign minister and his North Korean counterpart rejected the United States   unilateral and arbitrary  demands on Wednesday while expressing concern about escalating tensions on the Korean peninsula, the ministry said. North Korea is searching for support amid unprecedent',\n",
       " [6316,\n",
       "  152,\n",
       "  1844,\n",
       "  18,\n",
       "  212,\n",
       "  326,\n",
       "  5,\n",
       "  21,\n",
       "  225,\n",
       "  1408,\n",
       "  5703,\n",
       "  1881,\n",
       "  2,\n",
       "  97,\n",
       "  83,\n",
       "  7097,\n",
       "  5,\n",
       "  9800,\n",
       "  2508,\n",
       "  11])"
      ]
     },
     "execution_count": 23,
     "metadata": {},
     "output_type": "execute_result"
    }
   ],
   "source": [
    "X_train[0,0][0:300], tokenizer.texts_to_sequences(X_train[0])[0][:20]"
   ]
  },
  {
   "cell_type": "code",
   "execution_count": 24,
   "metadata": {},
   "outputs": [
    {
     "name": "stdout",
     "output_type": "stream",
     "text": [
      "[ 493.  620.  815. 1164. 1478.]\n"
     ]
    },
    {
     "data": {
      "image/png": "[encoded data removed]",
      "text/plain": [
       "<Figure size 432x288 with 1 Axes>"
      ]
     },
     "metadata": {
      "needs_background": "light"
     },
     "output_type": "display_data"
    }
   ],
   "source": [
    "lengths = [len(t[0].split(' ')) for t in X_train]\n",
    "print(np.quantile(lengths, [0.6, 0.7, 0.8, 0.9, 0.95]))\n",
    "plt.hist(lengths, bins=len(set(lengths)));"
   ]
  },
  {
   "cell_type": "code",
   "execution_count": 25,
   "metadata": {},
   "outputs": [],
   "source": [
    "maxlen = 500\n",
    "\n",
    "def get_sequences(tokenizer, text):\n",
    "    sequences = tokenizer.texts_to_sequences(text)\n",
    "    padded = pad_sequences(sequences, truncating='post', padding='post', maxlen=maxlen)\n",
    "    return padded"
   ]
  },
  {
   "cell_type": "code",
   "execution_count": 26,
   "metadata": {},
   "outputs": [
    {
     "data": {
      "text/plain": [
       "(43224, 500)"
      ]
     },
     "execution_count": 26,
     "metadata": {},
     "output_type": "execute_result"
    }
   ],
   "source": [
    "X_train_vec = get_sequences(tokenizer, X_train[:,0])\n",
    "X_train_vec.shape"
   ]
  },
  {
   "cell_type": "code",
   "execution_count": 27,
   "metadata": {},
   "outputs": [
    {
     "name": "stdout",
     "output_type": "stream",
     "text": [
      "(18525, 500) (15438, 500)\n"
     ]
    }
   ],
   "source": [
    "X_val_vec = get_sequences(tokenizer, X_val[:,0])\n",
    "X_test_vec = get_sequences(tokenizer, X_test[:,0])\n",
    "\n",
    "print(X_val_vec.shape, X_test_vec.shape)"
   ]
  },
  {
   "cell_type": "code",
   "execution_count": 28,
   "metadata": {},
   "outputs": [
    {
     "name": "stdout",
     "output_type": "stream",
     "text": [
      "401\n"
     ]
    },
    {
     "data": {
      "text/plain": [
       "array([ 459,   16,    1,    1, 4077,    3,    1, 3369,    2, 1562,    8,\n",
       "          2,  391,  992,   88,   23,  107,    1,   55,   36,   23,  107,\n",
       "       2948,   12,   18,    6, 2948, 1592,    2, 1579,   49,  129,  990,\n",
       "         11,    3, 3369,    2, 1562,   56,    6, 3624,  384,  117,  105,\n",
       "         24,    9,   13,  955,   88, 1748,    3,   38,  366,    1,    4,\n",
       "        258,    7,   30,  126,   13, 5796,    3,   38,  106, 1080, 2466,\n",
       "          5,   38,  106, 1080,    1,    5, 2266,    5,    8,  729,   10,\n",
       "         80,  459,  134,    6,  108,  643,    7,  623,    4,  163, 1816,\n",
       "        108, 5157,    1,    1,  242,   24,  239,   13,   25,  107,    1,\n",
       "         39, 1274,    6,  212,   87,    3, 3729,   79,    6,  283,    4,\n",
       "       2983,   18,    7,   30,  126,   60,   24,   17,   13, 2494,  173,\n",
       "         42,  429,   45,  461,   29,  115,   67,   43,    2, 1669, 4866,\n",
       "         37,  147,   56, 1843,  166,   45, 6374,    8,    6,  443,    7,\n",
       "         72,   87, 4751,  115,   67,  150,   18,   56, 1843,  166,   45,\n",
       "       6374,   24,   17,   16,    1,  741,    3,  968,  650, 6471,   22,\n",
       "       3698,   35,  147,   37,  176,    3,   37,  147, 1623,   50,    8,\n",
       "          6,  443,    7,   72,   87,    1,   42, 8108,   43,  122, 3776,\n",
       "          4, 3170,  178,  461,    8, 1843,  166,    6,  342,  551,   60,\n",
       "         49, 1211,    6, 6747,   49, 1211,    1,    5,   49, 1211, 3776,\n",
       "          4, 3170,  178,  461,    8, 1843,  166,    6,  551,   86,   55,\n",
       "        173,   43,  278,   43,  107,   76,  126,   25,  114,  461,   35,\n",
       "        816,    3,   22, 2787,   14,   37,   35,  434,  720,    3,  164,\n",
       "         81,   16,    1,  242,  180,  441,    6,  291, 1313,  313, 6920,\n",
       "         24,   18,  801, 1024,   24,  357,  287, 4998,   50,    1,   78,\n",
       "         17,    8,   99,  771,  232,   37,   26, 1323,   26,   37,    1,\n",
       "          1,    4, 1816,   12,   18,    6,    1,   13,   17,   30,    9,\n",
       "        257,   29,    2,  100,   84,   24,   25, 2869,   11,    1,    7,\n",
       "        681,   24,  113,  475,  768,    8,   21,  102,  432,   88,   95,\n",
       "        478,   50,    7,   43,  478,   47,  592,    3,   50,   90,   49,\n",
       "         18,   27,    6,  142,  217, 1251,    7,  924,   24,  171,   57,\n",
       "          1,    7,    2,  553,    4,    6,  918,  881,   24,  433,    3,\n",
       "        308,   28,   50,    5,    1,  328,    1,  730, 1071, 1965,   24,\n",
       "         17,   16,   13, 3280,   39,    2,  108,  136,  459,  284,   24,\n",
       "        609,    1,    3,   22, 3698,   55,   37,  176,    3,  147,  219,\n",
       "          2,  391,    9, 7014,   14,  445,  155,  105,   24,  459,   30,\n",
       "        273,  867, 1910, 1478,  267,  459, 1730,    1,    0,    0,    0,\n",
       "          0,    0,    0,    0,    0,    0,    0,    0,    0,    0,    0,\n",
       "          0,    0,    0,    0,    0,    0,    0,    0,    0,    0,    0,\n",
       "          0,    0,    0,    0,    0,    0,    0,    0,    0,    0,    0,\n",
       "          0,    0,    0,    0,    0,    0,    0,    0,    0,    0,    0,\n",
       "          0,    0,    0,    0,    0,    0,    0,    0,    0,    0,    0,\n",
       "          0,    0,    0,    0,    0,    0,    0,    0,    0,    0,    0,\n",
       "          0,    0,    0,    0,    0,    0,    0,    0,    0,    0,    0,\n",
       "          0,    0,    0,    0,    0,    0,    0,    0,    0,    0,    0,\n",
       "          0,    0,    0,    0,    0,    0,    0,    0,    0,    0,    0,\n",
       "          0,    0,    0,    0,    0])"
      ]
     },
     "execution_count": 28,
     "metadata": {},
     "output_type": "execute_result"
    }
   ],
   "source": [
    "print(len(X_test[250][0].split(' ')))\n",
    "X_test_vec[250]"
   ]
  },
  {
   "cell_type": "markdown",
   "metadata": {},
   "source": [
    "### Model"
   ]
  },
  {
   "cell_type": "code",
   "execution_count": 29,
   "metadata": {},
   "outputs": [],
   "source": [
    "model = tf.keras.models.Sequential([\n",
    "    tf.keras.layers.Embedding(10000, 128, mask_zero=True),  #input_length=maxlen),\n",
    "    tf.keras.layers.Dropout(0.2),\n",
    "    tf.keras.layers.Conv1D(64, 5, padding='valid', activation='selu', strides=2),\n",
    "    tf.keras.layers.MaxPool1D(pool_size=4),\n",
    "    tf.keras.layers.LSTM(20, return_sequences=True),\n",
    "    tf.keras.layers.LSTM(20),\n",
    "    tf.keras.layers.Dropout(0.2),\n",
    "    tf.keras.layers.Dense(512, activation='selu'),\n",
    "    tf.keras.layers.Dropout(0.2),\n",
    "    tf.keras.layers.Dense(256, activation='selu'),\n",
    "    tf.keras.layers.Dense(1, activation='sigmoid')\n",
    "])"
   ]
  },
  {
   "cell_type": "code",
   "execution_count": 30,
   "metadata": {},
   "outputs": [],
   "source": [
    "model.compile(\n",
    "    loss = tf.keras.losses.BinaryCrossentropy(),\n",
    "    optimizer= 'adam', # tf.keras.optimizers.SGD(learning_rate=.0001), #'adam',\n",
    "    metrics = ['accuracy']\n",
    ")"
   ]
  },
  {
   "cell_type": "code",
   "execution_count": 31,
   "metadata": {},
   "outputs": [
    {
     "name": "stdout",
     "output_type": "stream",
     "text": [
      "Model: \"sequential\"\n",
      "_________________________________________________________________\n",
      " Layer (type)                Output Shape              Param #   \n",
      "=================================================================\n",
      " embedding (Embedding)       (None, None, 128)         1280000   \n",
      "                                                                 \n",
      " dropout (Dropout)           (None, None, 128)         0         \n",
      "                                                                 \n",
      " conv1d (Conv1D)             (None, None, 64)          41024     \n",
      "                                                                 \n",
      " max_pooling1d (MaxPooling1D  (None, None, 64)         0         \n",
      " )                                                               \n",
      "                                                                 \n",
      " lstm (LSTM)                 (None, None, 20)          6800      \n",
      "                                                                 \n",
      " lstm_1 (LSTM)               (None, 20)                3280      \n",
      "                                                                 \n",
      " dropout_1 (Dropout)         (None, 20)                0         \n",
      "                                                                 \n",
      " dense (Dense)               (None, 512)               10752     \n",
      "                                                                 \n",
      " dropout_2 (Dropout)         (None, 512)               0         \n",
      "                                                                 \n",
      " dense_1 (Dense)             (None, 256)               131328    \n",
      "                                                                 \n",
      " dense_2 (Dense)             (None, 1)                 257       \n",
      "                                                                 \n",
      "=================================================================\n",
      "Total params: 1,473,441\n",
      "Trainable params: 1,473,441\n",
      "Non-trainable params: 0\n",
      "_________________________________________________________________\n"
     ]
    }
   ],
   "source": [
    "model.summary()"
   ]
  },
  {
   "cell_type": "code",
   "execution_count": 32,
   "metadata": {},
   "outputs": [
    {
     "name": "stdout",
     "output_type": "stream",
     "text": [
      "Epoch 1/10\n",
      "1351/1351 [==============================] - 103s 74ms/step - loss: 0.2575 - accuracy: 0.8986 - val_loss: 0.1865 - val_accuracy: 0.9405\n",
      "Epoch 2/10\n",
      "1351/1351 [==============================] - 99s 73ms/step - loss: 0.1332 - accuracy: 0.9519 - val_loss: 0.1590 - val_accuracy: 0.9461\n",
      "Epoch 3/10\n",
      "1351/1351 [==============================] - 102s 76ms/step - loss: 0.0810 - accuracy: 0.9711 - val_loss: 0.1771 - val_accuracy: 0.9421\n",
      "Epoch 4/10\n",
      "1351/1351 [==============================] - 105s 78ms/step - loss: 0.0512 - accuracy: 0.9836 - val_loss: 0.2160 - val_accuracy: 0.9310\n",
      "Epoch 5/10\n",
      "1351/1351 [==============================] - 108s 80ms/step - loss: 0.0336 - accuracy: 0.9898 - val_loss: 0.2428 - val_accuracy: 0.9345\n",
      "Epoch 6/10\n",
      "1351/1351 [==============================] - 106s 79ms/step - loss: 0.0267 - accuracy: 0.9923 - val_loss: 0.4501 - val_accuracy: 0.9392\n",
      "Epoch 7/10\n",
      "1351/1351 [==============================] - 108s 80ms/step - loss: 0.0256 - accuracy: 0.9923 - val_loss: 0.2956 - val_accuracy: 0.9371\n",
      "Epoch 8/10\n",
      "1351/1351 [==============================] - 108s 80ms/step - loss: 0.0204 - accuracy: 0.9939 - val_loss: 0.3839 - val_accuracy: 0.9291\n",
      "Epoch 9/10\n",
      "1351/1351 [==============================] - 102s 76ms/step - loss: 0.0205 - accuracy: 0.9936 - val_loss: 0.3239 - val_accuracy: 0.9325\n",
      "Epoch 10/10\n",
      "1351/1351 [==============================] - 101s 75ms/step - loss: 0.0176 - accuracy: 0.9940 - val_loss: 0.3035 - val_accuracy: 0.9366\n"
     ]
    }
   ],
   "source": [
    "h = model.fit(X_train_vec, y_train,\n",
    "              validation_data=(X_val_vec, y_val),\n",
    "              epochs=10, \n",
    "              callbacks=[tf.keras.callbacks.EarlyStopping(monitor='accuracy', patience=2)]\n",
    "             )"
   ]
  },
  {
   "cell_type": "code",
   "execution_count": 33,
   "metadata": {},
   "outputs": [],
   "source": [
    "def show_history(h):\n",
    "    epochs_trained = len(h.history['loss'])\n",
    "    plt.figure(figsize=(16, 6))\n",
    "\n",
    "    plt.subplot(1, 2, 1)\n",
    "    plt.plot(range(0, epochs_trained), h.history.get('accuracy'), label='Training')\n",
    "    plt.plot(range(0, epochs_trained), h.history.get('val_accuracy'), label='Validation')\n",
    "    plt.ylim([0., 1.])\n",
    "    plt.xlabel('Epochs')\n",
    "    plt.ylabel('Accuracy')\n",
    "    plt.legend()\n",
    "\n",
    "    plt.subplot(1, 2, 2)\n",
    "    plt.plot(range(0, epochs_trained), h.history.get('loss'), label='Training')\n",
    "    plt.plot(range(0, epochs_trained), h.history.get('val_loss'), label='Validation')\n",
    "    plt.xlabel('Epochs')\n",
    "    plt.ylabel('Loss')\n",
    "    plt.legend()\n",
    "    plt.show()"
   ]
  },
  {
   "cell_type": "code",
   "execution_count": 34,
   "metadata": {},
   "outputs": [
    {
     "data": {
      "image/png": "[encoded data removed]",
      "text/plain": [
       "<Figure size 1152x432 with 2 Axes>"
      ]
     },
     "metadata": {
      "needs_background": "light"
     },
     "output_type": "display_data"
    }
   ],
   "source": [
    "show_history(h)"
   ]
  },
  {
   "cell_type": "code",
   "execution_count": 35,
   "metadata": {},
   "outputs": [],
   "source": [
    "y_pred = model.predict(X_test_vec)"
   ]
  },
  {
   "cell_type": "code",
   "execution_count": 36,
   "metadata": {},
   "outputs": [
    {
     "data": {
      "image/png": "[encoded data removed]",
      "text/plain": [
       "<Figure size 432x288 with 1 Axes>"
      ]
     },
     "metadata": {
      "needs_background": "light"
     },
     "output_type": "display_data"
    }
   ],
   "source": [
    "plt.hist(y_pred);"
   ]
  },
  {
   "cell_type": "code",
   "execution_count": 37,
   "metadata": {},
   "outputs": [],
   "source": [
    "y_class = np.round(y_pred)"
   ]
  },
  {
   "cell_type": "code",
   "execution_count": 38,
   "metadata": {},
   "outputs": [
    {
     "data": {
      "text/plain": [
       "array([[9748,  304],\n",
       "       [ 683, 4703]], dtype=int64)"
      ]
     },
     "execution_count": 38,
     "metadata": {},
     "output_type": "execute_result"
    }
   ],
   "source": [
    "confusion_matrix(y_test, y_class)"
   ]
  },
  {
   "cell_type": "code",
   "execution_count": 39,
   "metadata": {},
   "outputs": [
    {
     "name": "stdout",
     "output_type": "stream",
     "text": [
      "Accuracy score: 93.61%\n"
     ]
    }
   ],
   "source": [
    "print('Accuracy score: {:.2f}%'.format(accuracy_score(y_test, y_class)*100))"
   ]
  },
  {
   "cell_type": "markdown",
   "metadata": {},
   "source": [
    "### BASELINE: TF-IDF (Term Frequency - Inverse Document Frequency)"
   ]
  },
  {
   "cell_type": "code",
   "execution_count": 40,
   "metadata": {},
   "outputs": [],
   "source": [
    "from sklearn.linear_model import PassiveAggressiveClassifier, LogisticRegression\n",
    "from sklearn.ensemble import RandomForestClassifier\n",
    "from sklearn.feature_extraction.text import TfidfVectorizer"
   ]
  },
  {
   "cell_type": "code",
   "execution_count": 41,
   "metadata": {},
   "outputs": [
    {
     "data": {
      "text/plain": [
       "scipy.sparse.csr.csr_matrix"
      ]
     },
     "execution_count": 41,
     "metadata": {},
     "output_type": "execute_result"
    }
   ],
   "source": [
    "tfidf = TfidfVectorizer(stop_words='english', strip_accents='ascii')\n",
    "X_train_tfidf = tfidf.fit_transform(X_train[:,0])\n",
    "type(X_train_tfidf)"
   ]
  },
  {
   "cell_type": "code",
   "execution_count": 42,
   "metadata": {},
   "outputs": [],
   "source": [
    "X_test_tfidf = tfidf.transform(X_test[:,0])"
   ]
  },
  {
   "cell_type": "markdown",
   "metadata": {},
   "source": [
    "### Fitting Out-of-Box Classifiers - PAC, Logistic, Random Forest"
   ]
  },
  {
   "cell_type": "code",
   "execution_count": 43,
   "metadata": {},
   "outputs": [],
   "source": [
    "def show_results(model):\n",
    "    model.fit(X_train_tfidf, y_train)\n",
    "    y_pred = model.predict(X_test_tfidf)\n",
    "    print('Accuracy score: {:.2f}%'.format(accuracy_score(y_test, y_pred)*100))\n",
    "    print(confusion_matrix(y_test, y_pred))"
   ]
  },
  {
   "cell_type": "code",
   "execution_count": 44,
   "metadata": {},
   "outputs": [
    {
     "name": "stdout",
     "output_type": "stream",
     "text": [
      "Accuracy score: 91.91%\n",
      "[[9537  515]\n",
      " [ 734 4652]]\n"
     ]
    }
   ],
   "source": [
    "show_results(PassiveAggressiveClassifier(max_iter=50))"
   ]
  },
  {
   "cell_type": "code",
   "execution_count": 45,
   "metadata": {},
   "outputs": [
    {
     "name": "stdout",
     "output_type": "stream",
     "text": [
      "Accuracy score: 92.94%\n",
      "[[9742  310]\n",
      " [ 780 4606]]\n"
     ]
    }
   ],
   "source": [
    "show_results(LogisticRegression(max_iter=500))"
   ]
  },
  {
   "cell_type": "code",
   "execution_count": 46,
   "metadata": {},
   "outputs": [
    {
     "name": "stdout",
     "output_type": "stream",
     "text": [
      "Accuracy score: 91.45%\n",
      "[[9758  294]\n",
      " [1026 4360]]\n"
     ]
    }
   ],
   "source": [
    "show_results(RandomForestClassifier(n_jobs=-1))"
   ]
  },
  {
   "cell_type": "code",
   "execution_count": null,
   "metadata": {},
   "outputs": [],
   "source": []
  }
 ],
 "metadata": {
  "kernelspec": {
   "display_name": "Python 3",
   "language": "python",
   "name": "python3"
  },
  "language_info": {
   "codemirror_mode": {
    "name": "ipython",
    "version": 3
   },
   "file_extension": ".py",
   "mimetype": "text/x-python",
   "name": "python",
   "nbconvert_exporter": "python",
   "pygments_lexer": "ipython3",
   "version": "3.8.5"
  }
 },
 "nbformat": 4,
 "nbformat_minor": 4
}
